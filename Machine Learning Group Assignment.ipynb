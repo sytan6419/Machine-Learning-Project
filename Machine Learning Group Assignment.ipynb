{
 "cells": [
  {
   "cell_type": "markdown",
   "metadata": {},
   "source": [
    "# 1.0 Read data from csv file"
   ]
  },
  {
   "cell_type": "code",
   "execution_count": 1,
   "metadata": {},
   "outputs": [
    {
     "data": {
      "text/html": [
       "<div>\n",
       "<style scoped>\n",
       "    .dataframe tbody tr th:only-of-type {\n",
       "        vertical-align: middle;\n",
       "    }\n",
       "\n",
       "    .dataframe tbody tr th {\n",
       "        vertical-align: top;\n",
       "    }\n",
       "\n",
       "    .dataframe thead th {\n",
       "        text-align: right;\n",
       "    }\n",
       "</style>\n",
       "<table border=\"1\" class=\"dataframe\">\n",
       "  <thead>\n",
       "    <tr style=\"text-align: right;\">\n",
       "      <th></th>\n",
       "      <th>AppName</th>\n",
       "      <th>Category</th>\n",
       "      <th>Rating</th>\n",
       "      <th>Reviews</th>\n",
       "      <th>Size</th>\n",
       "      <th>Installs</th>\n",
       "      <th>Type</th>\n",
       "      <th>Price</th>\n",
       "      <th>ContentRating</th>\n",
       "      <th>Genres</th>\n",
       "      <th>LastUpdated</th>\n",
       "      <th>CurrentVer</th>\n",
       "      <th>AndroidVer</th>\n",
       "    </tr>\n",
       "  </thead>\n",
       "  <tbody>\n",
       "    <tr>\n",
       "      <th>0</th>\n",
       "      <td>Photo Editor &amp; Candy Camera &amp; Grid &amp; ScrapBook</td>\n",
       "      <td>ART_AND_DESIGN</td>\n",
       "      <td>4.1</td>\n",
       "      <td>159</td>\n",
       "      <td>19M</td>\n",
       "      <td>10,000+</td>\n",
       "      <td>Free</td>\n",
       "      <td>0</td>\n",
       "      <td>Everyone</td>\n",
       "      <td>Art &amp; Design</td>\n",
       "      <td>January 7, 2018</td>\n",
       "      <td>1.0.0</td>\n",
       "      <td>4.0.3 and up</td>\n",
       "    </tr>\n",
       "    <tr>\n",
       "      <th>1</th>\n",
       "      <td>Coloring book moana</td>\n",
       "      <td>ART_AND_DESIGN</td>\n",
       "      <td>3.9</td>\n",
       "      <td>967</td>\n",
       "      <td>14M</td>\n",
       "      <td>500,000+</td>\n",
       "      <td>Free</td>\n",
       "      <td>0</td>\n",
       "      <td>Everyone</td>\n",
       "      <td>Art &amp; Design;Pretend Play</td>\n",
       "      <td>January 15, 2018</td>\n",
       "      <td>2.0.0</td>\n",
       "      <td>4.0.3 and up</td>\n",
       "    </tr>\n",
       "    <tr>\n",
       "      <th>2</th>\n",
       "      <td>U Launcher Lite – FREE Live Cool Themes, Hide ...</td>\n",
       "      <td>ART_AND_DESIGN</td>\n",
       "      <td>4.7</td>\n",
       "      <td>87510</td>\n",
       "      <td>8.7M</td>\n",
       "      <td>5,000,000+</td>\n",
       "      <td>Free</td>\n",
       "      <td>0</td>\n",
       "      <td>Everyone</td>\n",
       "      <td>Art &amp; Design</td>\n",
       "      <td>August 1, 2018</td>\n",
       "      <td>1.2.4</td>\n",
       "      <td>4.0.3 and up</td>\n",
       "    </tr>\n",
       "    <tr>\n",
       "      <th>3</th>\n",
       "      <td>Sketch - Draw &amp; Paint</td>\n",
       "      <td>ART_AND_DESIGN</td>\n",
       "      <td>4.5</td>\n",
       "      <td>215644</td>\n",
       "      <td>25M</td>\n",
       "      <td>50,000,000+</td>\n",
       "      <td>Free</td>\n",
       "      <td>0</td>\n",
       "      <td>Teen</td>\n",
       "      <td>Art &amp; Design</td>\n",
       "      <td>June 8, 2018</td>\n",
       "      <td>Varies with device</td>\n",
       "      <td>4.2 and up</td>\n",
       "    </tr>\n",
       "    <tr>\n",
       "      <th>4</th>\n",
       "      <td>Pixel Draw - Number Art Coloring Book</td>\n",
       "      <td>ART_AND_DESIGN</td>\n",
       "      <td>4.3</td>\n",
       "      <td>967</td>\n",
       "      <td>2.8M</td>\n",
       "      <td>100,000+</td>\n",
       "      <td>Free</td>\n",
       "      <td>0</td>\n",
       "      <td>Everyone</td>\n",
       "      <td>Art &amp; Design;Creativity</td>\n",
       "      <td>June 20, 2018</td>\n",
       "      <td>1.1</td>\n",
       "      <td>4.4 and up</td>\n",
       "    </tr>\n",
       "  </tbody>\n",
       "</table>\n",
       "</div>"
      ],
      "text/plain": [
       "                                             AppName        Category  Rating  \\\n",
       "0     Photo Editor & Candy Camera & Grid & ScrapBook  ART_AND_DESIGN     4.1   \n",
       "1                                Coloring book moana  ART_AND_DESIGN     3.9   \n",
       "2  U Launcher Lite – FREE Live Cool Themes, Hide ...  ART_AND_DESIGN     4.7   \n",
       "3                              Sketch - Draw & Paint  ART_AND_DESIGN     4.5   \n",
       "4              Pixel Draw - Number Art Coloring Book  ART_AND_DESIGN     4.3   \n",
       "\n",
       "  Reviews  Size     Installs  Type Price ContentRating  \\\n",
       "0     159   19M      10,000+  Free     0      Everyone   \n",
       "1     967   14M     500,000+  Free     0      Everyone   \n",
       "2   87510  8.7M   5,000,000+  Free     0      Everyone   \n",
       "3  215644   25M  50,000,000+  Free     0          Teen   \n",
       "4     967  2.8M     100,000+  Free     0      Everyone   \n",
       "\n",
       "                      Genres       LastUpdated          CurrentVer  \\\n",
       "0               Art & Design   January 7, 2018               1.0.0   \n",
       "1  Art & Design;Pretend Play  January 15, 2018               2.0.0   \n",
       "2               Art & Design    August 1, 2018               1.2.4   \n",
       "3               Art & Design      June 8, 2018  Varies with device   \n",
       "4    Art & Design;Creativity     June 20, 2018                 1.1   \n",
       "\n",
       "     AndroidVer  \n",
       "0  4.0.3 and up  \n",
       "1  4.0.3 and up  \n",
       "2  4.0.3 and up  \n",
       "3    4.2 and up  \n",
       "4    4.4 and up  "
      ]
     },
     "execution_count": 1,
     "metadata": {},
     "output_type": "execute_result"
    }
   ],
   "source": [
    "import pandas as pd\n",
    "import numpy as np\n",
    "import matplotlib.pyplot as plt\n",
    "import seaborn as sns\n",
    "import warnings\n",
    "warnings.filterwarnings('ignore')\n",
    "\n",
    "# Defined the column name for each attributes\n",
    "colNames = ['AppName','Category','Rating','Reviews','Size',\n",
    "            'Installs','Type','Price','ContentRating','Genres',\n",
    "            'LastUpdated','CurrentVer','AndroidVer']\n",
    "\n",
    "# Check on the data and skip for the first row as it is the name of the data.\n",
    "df = pd.read_csv('playstore.csv', names=colNames, skiprows=1)\n",
    "\n",
    "# Preview the data\n",
    "df.head()"
   ]
  },
  {
   "cell_type": "markdown",
   "metadata": {},
   "source": [
    "# 1.1 Data checking"
   ]
  },
  {
   "cell_type": "raw",
   "metadata": {},
   "source": [
    "At this section, we will check on the data that we fetch from the csv file.\n",
    "There are a few things that we concern the most:\n",
    "1) Structure of the data - how many data entry and attributes that we have\n",
    "    - we use df.shape to check on the shape of raw dataset.\n",
    "2) Is there any null data, or imcomplete data exists in the raw dataset.\n",
    "    - At this point, we will need to determine whether to clear the row, or replace it with other value (Eg: 0?)\n",
    "3) Check on the type of the attributes, eg: float64, int64, object, string. \n",
    "    - To check on the data type for further data processing."
   ]
  },
  {
   "cell_type": "code",
   "execution_count": 2,
   "metadata": {},
   "outputs": [
    {
     "data": {
      "text/plain": [
       "(10841, 13)"
      ]
     },
     "execution_count": 2,
     "metadata": {},
     "output_type": "execute_result"
    }
   ],
   "source": [
    "# Check on the data dimension\n",
    "df.shape"
   ]
  },
  {
   "cell_type": "raw",
   "metadata": {},
   "source": [
    "From the code above, the data contains total of 10841 rows with 13 columns (12 features, excluding the application name."
   ]
  },
  {
   "cell_type": "code",
   "execution_count": 3,
   "metadata": {},
   "outputs": [
    {
     "name": "stdout",
     "output_type": "stream",
     "text": [
      "<class 'pandas.core.frame.DataFrame'>\n",
      "RangeIndex: 10841 entries, 0 to 10840\n",
      "Data columns (total 13 columns):\n",
      "AppName          10841 non-null object\n",
      "Category         10841 non-null object\n",
      "Rating           9367 non-null float64\n",
      "Reviews          10841 non-null object\n",
      "Size             10841 non-null object\n",
      "Installs         10841 non-null object\n",
      "Type             10840 non-null object\n",
      "Price            10841 non-null object\n",
      "ContentRating    10840 non-null object\n",
      "Genres           10841 non-null object\n",
      "LastUpdated      10841 non-null object\n",
      "CurrentVer       10833 non-null object\n",
      "AndroidVer       10838 non-null object\n",
      "dtypes: float64(1), object(12)\n",
      "memory usage: 1.1+ MB\n"
     ]
    },
    {
     "data": {
      "text/plain": [
       "AppName             0\n",
       "Category            0\n",
       "Rating           1474\n",
       "Reviews             0\n",
       "Size                0\n",
       "Installs            0\n",
       "Type                1\n",
       "Price               0\n",
       "ContentRating       1\n",
       "Genres              0\n",
       "LastUpdated         0\n",
       "CurrentVer          8\n",
       "AndroidVer          3\n",
       "dtype: int64"
      ]
     },
     "execution_count": 3,
     "metadata": {},
     "output_type": "execute_result"
    }
   ],
   "source": [
    "df.info()\n",
    "df.isnull().sum() #Null Data Sum"
   ]
  },
  {
   "cell_type": "raw",
   "metadata": {},
   "source": [
    "As of the df.info() show, there are multiple of attributes have null data.\n",
    "Besides, the data itself has inconsistent type of data from each category. \n",
    "Therefore, we would need to proceed to clean up the data first."
   ]
  },
  {
   "cell_type": "markdown",
   "metadata": {},
   "source": [
    "# 2.0 Pre-processing (Clean up data)"
   ]
  },
  {
   "cell_type": "code",
   "execution_count": 4,
   "metadata": {},
   "outputs": [
    {
     "data": {
      "text/plain": [
       "(9360, 13)"
      ]
     },
     "execution_count": 4,
     "metadata": {},
     "output_type": "execute_result"
    }
   ],
   "source": [
    "# Drop the null dataset\n",
    "df = df[['AppName','Category','Rating','Reviews','Size',\n",
    "            'Installs','Type','Price','ContentRating','Genres',\n",
    "            'LastUpdated','CurrentVer','AndroidVer']].dropna(axis=0, how='any')\n",
    "\n",
    "df.shape"
   ]
  },
  {
   "cell_type": "code",
   "execution_count": 5,
   "metadata": {},
   "outputs": [
    {
     "name": "stdout",
     "output_type": "stream",
     "text": [
      "<class 'pandas.core.frame.DataFrame'>\n",
      "Int64Index: 9360 entries, 0 to 10840\n",
      "Data columns (total 13 columns):\n",
      "AppName          9360 non-null object\n",
      "Category         9360 non-null object\n",
      "Rating           9360 non-null float64\n",
      "Reviews          9360 non-null object\n",
      "Size             9360 non-null object\n",
      "Installs         9360 non-null object\n",
      "Type             9360 non-null object\n",
      "Price            9360 non-null object\n",
      "ContentRating    9360 non-null object\n",
      "Genres           9360 non-null object\n",
      "LastUpdated      9360 non-null object\n",
      "CurrentVer       9360 non-null object\n",
      "AndroidVer       9360 non-null object\n",
      "dtypes: float64(1), object(12)\n",
      "memory usage: 1023.8+ KB\n"
     ]
    },
    {
     "data": {
      "text/plain": [
       "AppName          0\n",
       "Category         0\n",
       "Rating           0\n",
       "Reviews          0\n",
       "Size             0\n",
       "Installs         0\n",
       "Type             0\n",
       "Price            0\n",
       "ContentRating    0\n",
       "Genres           0\n",
       "LastUpdated      0\n",
       "CurrentVer       0\n",
       "AndroidVer       0\n",
       "dtype: int64"
      ]
     },
     "execution_count": 5,
     "metadata": {},
     "output_type": "execute_result"
    }
   ],
   "source": [
    "df.info()\n",
    "df.isnull().sum() #Null Data Sum"
   ]
  },
  {
   "cell_type": "raw",
   "metadata": {},
   "source": [
    "As of this point, we have removed the null data from the dataset so that we can have a more cleaned data.\n",
    "However, we still need to derive a new column of data in order for us to achieve out goal - to maximize the earning from selling app in app store. The formula for the new column will be based on the number of apps installed as well as the selling price of the apps."
   ]
  },
  {
   "cell_type": "markdown",
   "metadata": {},
   "source": [
    "# 2.1 Remove outlier from attribute"
   ]
  },
  {
   "cell_type": "markdown",
   "metadata": {},
   "source": [
    "Will start checking on the unique content of each attribute if any outlier appears"
   ]
  },
  {
   "cell_type": "code",
   "execution_count": 6,
   "metadata": {},
   "outputs": [
    {
     "data": {
      "text/plain": [
       "FAMILY                 1746\n",
       "GAME                   1097\n",
       "TOOLS                   733\n",
       "PRODUCTIVITY            351\n",
       "MEDICAL                 350\n",
       "COMMUNICATION           328\n",
       "FINANCE                 323\n",
       "SPORTS                  319\n",
       "PHOTOGRAPHY             317\n",
       "LIFESTYLE               314\n",
       "PERSONALIZATION         312\n",
       "BUSINESS                303\n",
       "HEALTH_AND_FITNESS      297\n",
       "SOCIAL                  259\n",
       "SHOPPING                238\n",
       "NEWS_AND_MAGAZINES      233\n",
       "TRAVEL_AND_LOCAL        226\n",
       "DATING                  195\n",
       "BOOKS_AND_REFERENCE     178\n",
       "VIDEO_PLAYERS           160\n",
       "EDUCATION               155\n",
       "ENTERTAINMENT           149\n",
       "MAPS_AND_NAVIGATION     124\n",
       "FOOD_AND_DRINK          109\n",
       "HOUSE_AND_HOME           76\n",
       "WEATHER                  75\n",
       "AUTO_AND_VEHICLES        73\n",
       "LIBRARIES_AND_DEMO       64\n",
       "ART_AND_DESIGN           61\n",
       "COMICS                   58\n",
       "PARENTING                50\n",
       "EVENTS                   45\n",
       "BEAUTY                   42\n",
       "Name: Category, dtype: int64"
      ]
     },
     "execution_count": 6,
     "metadata": {},
     "output_type": "execute_result"
    }
   ],
   "source": [
    "df.Category.value_counts()"
   ]
  },
  {
   "cell_type": "code",
   "execution_count": 7,
   "metadata": {},
   "outputs": [
    {
     "data": {
      "text/plain": [
       "4.4    1108\n",
       "4.3    1076\n",
       "4.5    1037\n",
       "4.2     951\n",
       "4.6     823\n",
       "4.1     707\n",
       "4.0     567\n",
       "4.7     499\n",
       "3.9     386\n",
       "3.8     303\n",
       "5.0     274\n",
       "3.7     239\n",
       "4.8     234\n",
       "3.6     174\n",
       "3.5     163\n",
       "3.4     128\n",
       "3.3     102\n",
       "4.9      87\n",
       "3.0      83\n",
       "3.1      69\n",
       "3.2      63\n",
       "2.9      45\n",
       "2.8      42\n",
       "2.6      25\n",
       "2.7      25\n",
       "2.5      21\n",
       "2.3      20\n",
       "2.4      19\n",
       "1.0      16\n",
       "2.2      14\n",
       "1.9      13\n",
       "2.0      12\n",
       "1.7       8\n",
       "2.1       8\n",
       "1.8       8\n",
       "1.6       4\n",
       "1.4       3\n",
       "1.5       3\n",
       "1.2       1\n",
       "Name: Rating, dtype: int64"
      ]
     },
     "execution_count": 7,
     "metadata": {},
     "output_type": "execute_result"
    }
   ],
   "source": [
    "df['Reviews']=df['Reviews'].astype('int')\n",
    "df.Rating.value_counts()"
   ]
  },
  {
   "cell_type": "code",
   "execution_count": 8,
   "metadata": {},
   "outputs": [
    {
     "data": {
      "text/plain": [
       "2          83\n",
       "3          78\n",
       "4          74\n",
       "5          74\n",
       "1          67\n",
       "7          62\n",
       "6          62\n",
       "8          57\n",
       "12         53\n",
       "10         46\n",
       "11         39\n",
       "9          39\n",
       "13         37\n",
       "17         36\n",
       "19         33\n",
       "16         31\n",
       "14         30\n",
       "21         29\n",
       "20         28\n",
       "25         27\n",
       "15         26\n",
       "18         25\n",
       "33         24\n",
       "22         23\n",
       "27         23\n",
       "38         23\n",
       "28         22\n",
       "30         22\n",
       "24         21\n",
       "23         20\n",
       "           ..\n",
       "567632      1\n",
       "8118609     1\n",
       "192851      1\n",
       "8537        1\n",
       "2537        1\n",
       "649568      1\n",
       "35172       1\n",
       "357         1\n",
       "9881908     1\n",
       "125232      1\n",
       "8433        1\n",
       "37167       1\n",
       "245         1\n",
       "3090680     1\n",
       "172281      1\n",
       "2300        1\n",
       "22782       1\n",
       "6074627     1\n",
       "41225       1\n",
       "157322      1\n",
       "141584      1\n",
       "8465        1\n",
       "139545      1\n",
       "47386       1\n",
       "624924      1\n",
       "33053       1\n",
       "4383        1\n",
       "43296       1\n",
       "156322      1\n",
       "739329      1\n",
       "Name: Reviews, Length: 5990, dtype: int64"
      ]
     },
     "execution_count": 8,
     "metadata": {},
     "output_type": "execute_result"
    }
   ],
   "source": [
    "df.Reviews.value_counts()"
   ]
  },
  {
   "cell_type": "code",
   "execution_count": 9,
   "metadata": {},
   "outputs": [
    {
     "data": {
      "text/plain": [
       "1,000,000+        1576\n",
       "10,000,000+       1252\n",
       "100,000+          1150\n",
       "10,000+           1009\n",
       "5,000,000+         752\n",
       "1,000+             712\n",
       "500,000+           537\n",
       "50,000+            466\n",
       "5,000+             431\n",
       "100,000,000+       409\n",
       "100+               309\n",
       "50,000,000+        289\n",
       "500+               201\n",
       "500,000,000+        72\n",
       "10+                 69\n",
       "1,000,000,000+      58\n",
       "50+                 56\n",
       "5+                   9\n",
       "1+                   3\n",
       "Name: Installs, dtype: int64"
      ]
     },
     "execution_count": 9,
     "metadata": {},
     "output_type": "execute_result"
    }
   ],
   "source": [
    "df.Installs.value_counts()"
   ]
  },
  {
   "cell_type": "code",
   "execution_count": 10,
   "metadata": {},
   "outputs": [
    {
     "data": {
      "text/plain": [
       "Free    8715\n",
       "Paid     645\n",
       "Name: Type, dtype: int64"
      ]
     },
     "execution_count": 10,
     "metadata": {},
     "output_type": "execute_result"
    }
   ],
   "source": [
    "df.Type.value_counts()"
   ]
  },
  {
   "cell_type": "code",
   "execution_count": 11,
   "metadata": {},
   "outputs": [
    {
     "data": {
      "text/plain": [
       "Everyone           7414\n",
       "Teen               1084\n",
       "Mature 17+          461\n",
       "Everyone 10+        397\n",
       "Adults only 18+       3\n",
       "Unrated               1\n",
       "Name: ContentRating, dtype: int64"
      ]
     },
     "execution_count": 11,
     "metadata": {},
     "output_type": "execute_result"
    }
   ],
   "source": [
    "df.ContentRating.value_counts()"
   ]
  },
  {
   "cell_type": "code",
   "execution_count": 12,
   "metadata": {},
   "outputs": [
    {
     "data": {
      "text/plain": [
       "Tools                                  732\n",
       "Entertainment                          533\n",
       "Education                              468\n",
       "Action                                 358\n",
       "Productivity                           351\n",
       "Medical                                350\n",
       "Sports                                 333\n",
       "Communication                          328\n",
       "Finance                                323\n",
       "Photography                            317\n",
       "Lifestyle                              313\n",
       "Personalization                        312\n",
       "Business                               303\n",
       "Health & Fitness                       297\n",
       "Social                                 259\n",
       "Shopping                               238\n",
       "News & Magazines                       233\n",
       "Travel & Local                         225\n",
       "Arcade                                 207\n",
       "Dating                                 195\n",
       "Simulation                             194\n",
       "Casual                                 185\n",
       "Books & Reference                      178\n",
       "Video Players & Editors                158\n",
       "Maps & Navigation                      124\n",
       "Puzzle                                 120\n",
       "Food & Drink                           109\n",
       "Role Playing                           106\n",
       "Strategy                               103\n",
       "Racing                                  93\n",
       "                                      ... \n",
       "Entertainment;Creativity                 3\n",
       "Puzzle;Creativity                        2\n",
       "Video Players & Editors;Creativity       2\n",
       "Casual;Music & Video                     2\n",
       "Card;Action & Adventure                  2\n",
       "Strategy;Action & Adventure              2\n",
       "Art & Design;Pretend Play                2\n",
       "Entertainment;Pretend Play               2\n",
       "Adventure;Education                      2\n",
       "Books & Reference;Education              2\n",
       "Communication;Creativity                 1\n",
       "Adventure;Brain Games                    1\n",
       "Travel & Local;Action & Adventure        1\n",
       "Parenting;Brain Games                    1\n",
       "Lifestyle;Pretend Play                   1\n",
       "Music & Audio;Music & Video              1\n",
       "Health & Fitness;Action & Adventure      1\n",
       "Strategy;Education                       1\n",
       "Arcade;Pretend Play                      1\n",
       "Health & Fitness;Education               1\n",
       "Lifestyle;Education                      1\n",
       "Puzzle;Education                         1\n",
       "Tools;Education                          1\n",
       "Racing;Pretend Play                      1\n",
       "Strategy;Creativity                      1\n",
       "Comics;Creativity                        1\n",
       "Entertainment;Education                  1\n",
       "Board;Pretend Play                       1\n",
       "Role Playing;Brain Games                 1\n",
       "Card;Brain Games                         1\n",
       "Name: Genres, Length: 115, dtype: int64"
      ]
     },
     "execution_count": 12,
     "metadata": {},
     "output_type": "execute_result"
    }
   ],
   "source": [
    "df.Genres.value_counts()"
   ]
  },
  {
   "cell_type": "code",
   "execution_count": 13,
   "metadata": {},
   "outputs": [
    {
     "data": {
      "text/plain": [
       "4.1 and up            2059\n",
       "Varies with device    1319\n",
       "4.0.3 and up          1240\n",
       "4.0 and up            1129\n",
       "4.4 and up             875\n",
       "2.3 and up             582\n",
       "5.0 and up             535\n",
       "4.2 and up             337\n",
       "2.3.3 and up           240\n",
       "3.0 and up             211\n",
       "2.2 and up             208\n",
       "4.3 and up             207\n",
       "2.1 and up             113\n",
       "1.6 and up              87\n",
       "6.0 and up              48\n",
       "7.0 and up              41\n",
       "3.2 and up              31\n",
       "2.0 and up              27\n",
       "5.1 and up              18\n",
       "1.5 and up              15\n",
       "3.1 and up               8\n",
       "2.0.1 and up             7\n",
       "4.4W and up              6\n",
       "8.0 and up               5\n",
       "7.1 and up               3\n",
       "4.0.3 - 7.1.1            2\n",
       "1.0 and up               2\n",
       "5.0 - 8.0                2\n",
       "7.0 - 7.1.1              1\n",
       "4.1 - 7.1.1              1\n",
       "5.0 - 6.0                1\n",
       "Name: AndroidVer, dtype: int64"
      ]
     },
     "execution_count": 13,
     "metadata": {},
     "output_type": "execute_result"
    }
   ],
   "source": [
    "df.AndroidVer.value_counts()"
   ]
  },
  {
   "cell_type": "code",
   "execution_count": 14,
   "metadata": {},
   "outputs": [],
   "source": [
    "#removing the commas and + from installs\n",
    "df['Installs']=df['Installs'].str.replace('+','')\n",
    "df['Installs']=df['Installs'].str.replace(',','')\n",
    "#converting object into integer\n",
    "df['Installs']=df['Installs'].astype(int)"
   ]
  },
  {
   "cell_type": "code",
   "execution_count": 15,
   "metadata": {},
   "outputs": [
    {
     "data": {
      "image/png": "[encoded data removed]",
      "text/plain": [
       "<Figure size 432x288 with 1 Axes>"
      ]
     },
     "metadata": {},
     "output_type": "display_data"
    }
   ],
   "source": [
    "sns.countplot('Category',data=df,order=df['Category'].value_counts().index)\n",
    "plt.xticks(rotation= 'vertical')\n",
    "plt.show()"
   ]
  },
  {
   "cell_type": "code",
   "execution_count": 16,
   "metadata": {},
   "outputs": [
    {
     "data": {
      "text/plain": [
       "<seaborn.axisgrid.JointGrid at 0x1a0e164ba8>"
      ]
     },
     "execution_count": 16,
     "metadata": {},
     "output_type": "execute_result"
    },
    {
     "data": {
      "image/png": "[encoded data removed]",
      "text/plain": [
       "<Figure size 432x432 with 3 Axes>"
      ]
     },
     "metadata": {},
     "output_type": "display_data"
    }
   ],
   "source": [
    "sns.jointplot('Reviews','Rating',data=df)"
   ]
  },
  {
   "cell_type": "code",
   "execution_count": 17,
   "metadata": {},
   "outputs": [
    {
     "data": {
      "text/html": [
       "<div>\n",
       "<style scoped>\n",
       "    .dataframe tbody tr th:only-of-type {\n",
       "        vertical-align: middle;\n",
       "    }\n",
       "\n",
       "    .dataframe tbody tr th {\n",
       "        vertical-align: top;\n",
       "    }\n",
       "\n",
       "    .dataframe thead th {\n",
       "        text-align: right;\n",
       "    }\n",
       "</style>\n",
       "<table border=\"1\" class=\"dataframe\">\n",
       "  <thead>\n",
       "    <tr style=\"text-align: right;\">\n",
       "      <th>Installs</th>\n",
       "      <th>1</th>\n",
       "      <th>5</th>\n",
       "      <th>10</th>\n",
       "      <th>50</th>\n",
       "      <th>100</th>\n",
       "      <th>500</th>\n",
       "      <th>1000</th>\n",
       "      <th>5000</th>\n",
       "      <th>10000</th>\n",
       "      <th>50000</th>\n",
       "      <th>100000</th>\n",
       "      <th>500000</th>\n",
       "      <th>1000000</th>\n",
       "      <th>5000000</th>\n",
       "      <th>10000000</th>\n",
       "      <th>50000000</th>\n",
       "      <th>100000000</th>\n",
       "      <th>500000000</th>\n",
       "      <th>1000000000</th>\n",
       "    </tr>\n",
       "    <tr>\n",
       "      <th>Category</th>\n",
       "      <th></th>\n",
       "      <th></th>\n",
       "      <th></th>\n",
       "      <th></th>\n",
       "      <th></th>\n",
       "      <th></th>\n",
       "      <th></th>\n",
       "      <th></th>\n",
       "      <th></th>\n",
       "      <th></th>\n",
       "      <th></th>\n",
       "      <th></th>\n",
       "      <th></th>\n",
       "      <th></th>\n",
       "      <th></th>\n",
       "      <th></th>\n",
       "      <th></th>\n",
       "      <th></th>\n",
       "      <th></th>\n",
       "    </tr>\n",
       "  </thead>\n",
       "  <tbody>\n",
       "    <tr>\n",
       "      <th>ART_AND_DESIGN</th>\n",
       "      <td>0</td>\n",
       "      <td>0</td>\n",
       "      <td>0</td>\n",
       "      <td>0</td>\n",
       "      <td>1</td>\n",
       "      <td>0</td>\n",
       "      <td>3</td>\n",
       "      <td>3</td>\n",
       "      <td>11</td>\n",
       "      <td>6</td>\n",
       "      <td>18</td>\n",
       "      <td>6</td>\n",
       "      <td>4</td>\n",
       "      <td>3</td>\n",
       "      <td>5</td>\n",
       "      <td>1</td>\n",
       "      <td>0</td>\n",
       "      <td>0</td>\n",
       "      <td>0</td>\n",
       "    </tr>\n",
       "    <tr>\n",
       "      <th>AUTO_AND_VEHICLES</th>\n",
       "      <td>0</td>\n",
       "      <td>0</td>\n",
       "      <td>0</td>\n",
       "      <td>0</td>\n",
       "      <td>3</td>\n",
       "      <td>3</td>\n",
       "      <td>8</td>\n",
       "      <td>2</td>\n",
       "      <td>6</td>\n",
       "      <td>5</td>\n",
       "      <td>23</td>\n",
       "      <td>5</td>\n",
       "      <td>13</td>\n",
       "      <td>3</td>\n",
       "      <td>2</td>\n",
       "      <td>0</td>\n",
       "      <td>0</td>\n",
       "      <td>0</td>\n",
       "      <td>0</td>\n",
       "    </tr>\n",
       "    <tr>\n",
       "      <th>BEAUTY</th>\n",
       "      <td>0</td>\n",
       "      <td>0</td>\n",
       "      <td>0</td>\n",
       "      <td>0</td>\n",
       "      <td>2</td>\n",
       "      <td>0</td>\n",
       "      <td>1</td>\n",
       "      <td>3</td>\n",
       "      <td>10</td>\n",
       "      <td>4</td>\n",
       "      <td>6</td>\n",
       "      <td>6</td>\n",
       "      <td>8</td>\n",
       "      <td>1</td>\n",
       "      <td>1</td>\n",
       "      <td>0</td>\n",
       "      <td>0</td>\n",
       "      <td>0</td>\n",
       "      <td>0</td>\n",
       "    </tr>\n",
       "    <tr>\n",
       "      <th>BOOKS_AND_REFERENCE</th>\n",
       "      <td>0</td>\n",
       "      <td>1</td>\n",
       "      <td>0</td>\n",
       "      <td>1</td>\n",
       "      <td>1</td>\n",
       "      <td>3</td>\n",
       "      <td>25</td>\n",
       "      <td>15</td>\n",
       "      <td>24</td>\n",
       "      <td>11</td>\n",
       "      <td>19</td>\n",
       "      <td>17</td>\n",
       "      <td>20</td>\n",
       "      <td>10</td>\n",
       "      <td>24</td>\n",
       "      <td>0</td>\n",
       "      <td>6</td>\n",
       "      <td>0</td>\n",
       "      <td>1</td>\n",
       "    </tr>\n",
       "    <tr>\n",
       "      <th>BUSINESS</th>\n",
       "      <td>0</td>\n",
       "      <td>2</td>\n",
       "      <td>6</td>\n",
       "      <td>3</td>\n",
       "      <td>24</td>\n",
       "      <td>13</td>\n",
       "      <td>39</td>\n",
       "      <td>14</td>\n",
       "      <td>45</td>\n",
       "      <td>12</td>\n",
       "      <td>36</td>\n",
       "      <td>12</td>\n",
       "      <td>46</td>\n",
       "      <td>23</td>\n",
       "      <td>18</td>\n",
       "      <td>7</td>\n",
       "      <td>3</td>\n",
       "      <td>0</td>\n",
       "      <td>0</td>\n",
       "    </tr>\n",
       "  </tbody>\n",
       "</table>\n",
       "</div>"
      ],
      "text/plain": [
       "Installs             1           5           10          50          \\\n",
       "Category                                                              \n",
       "ART_AND_DESIGN                0           0           0           0   \n",
       "AUTO_AND_VEHICLES             0           0           0           0   \n",
       "BEAUTY                        0           0           0           0   \n",
       "BOOKS_AND_REFERENCE           0           1           0           1   \n",
       "BUSINESS                      0           2           6           3   \n",
       "\n",
       "Installs             100         500         1000        5000        \\\n",
       "Category                                                              \n",
       "ART_AND_DESIGN                1           0           3           3   \n",
       "AUTO_AND_VEHICLES             3           3           8           2   \n",
       "BEAUTY                        2           0           1           3   \n",
       "BOOKS_AND_REFERENCE           1           3          25          15   \n",
       "BUSINESS                     24          13          39          14   \n",
       "\n",
       "Installs             10000       50000       100000      500000      \\\n",
       "Category                                                              \n",
       "ART_AND_DESIGN               11           6          18           6   \n",
       "AUTO_AND_VEHICLES             6           5          23           5   \n",
       "BEAUTY                       10           4           6           6   \n",
       "BOOKS_AND_REFERENCE          24          11          19          17   \n",
       "BUSINESS                     45          12          36          12   \n",
       "\n",
       "Installs             1000000     5000000     10000000    50000000    \\\n",
       "Category                                                              \n",
       "ART_AND_DESIGN                4           3           5           1   \n",
       "AUTO_AND_VEHICLES            13           3           2           0   \n",
       "BEAUTY                        8           1           1           0   \n",
       "BOOKS_AND_REFERENCE          20          10          24           0   \n",
       "BUSINESS                     46          23          18           7   \n",
       "\n",
       "Installs             100000000   500000000   1000000000  \n",
       "Category                                                 \n",
       "ART_AND_DESIGN                0           0           0  \n",
       "AUTO_AND_VEHICLES             0           0           0  \n",
       "BEAUTY                        0           0           0  \n",
       "BOOKS_AND_REFERENCE           6           0           1  \n",
       "BUSINESS                      3           0           0  "
      ]
     },
     "execution_count": 17,
     "metadata": {},
     "output_type": "execute_result"
    }
   ],
   "source": [
    "categoryInstalls=pd.crosstab(index=df['Category'], columns=df['Installs'])\n",
    "categoryInstalls.head()"
   ]
  },
  {
   "cell_type": "code",
   "execution_count": 18,
   "metadata": {},
   "outputs": [
    {
     "data": {
      "text/plain": [
       "<matplotlib.legend.Legend at 0x1a198af5f8>"
      ]
     },
     "execution_count": 18,
     "metadata": {},
     "output_type": "execute_result"
    },
    {
     "data": {
      "image/png": "[encoded data removed]",
      "text/plain": [
       "<Figure size 1080x1080 with 1 Axes>"
      ]
     },
     "metadata": {},
     "output_type": "display_data"
    }
   ],
   "source": [
    "categoryInstalls.plot(kind=\"barh\", figsize=(15,15),stacked=True)\n",
    "plt.legend(bbox_to_anchor=(1.0,1.0))"
   ]
  },
  {
   "cell_type": "code",
   "execution_count": 19,
   "metadata": {},
   "outputs": [],
   "source": [
    "df['Price$']=df['Price'].str.replace('$','').astype('float')"
   ]
  },
  {
   "cell_type": "code",
   "execution_count": 20,
   "metadata": {},
   "outputs": [
    {
     "data": {
      "text/plain": [
       "<matplotlib.axes._subplots.AxesSubplot at 0x1a197a9b38>"
      ]
     },
     "execution_count": 20,
     "metadata": {},
     "output_type": "execute_result"
    },
    {
     "data": {
      "image/png": "[encoded data removed]",
      "text/plain": [
       "<Figure size 432x288 with 1 Axes>"
      ]
     },
     "metadata": {},
     "output_type": "display_data"
    }
   ],
   "source": [
    "sns.distplot(df['Price$'],kde=True,hist=False,rug=True)"
   ]
  },
  {
   "cell_type": "code",
   "execution_count": 21,
   "metadata": {},
   "outputs": [],
   "source": [
    "#df['Size'].str.replace('M','') - Cannot do this because then won't be able to bring uniformity to data\n",
    "df['SizeM']=df[df['Size'].str.contains('M')]['Size'].str.replace('M','').astype(float)*1000 #changing in kilobytes\n",
    "df['SizeM'].fillna(df['Size'],inplace=True)"
   ]
  },
  {
   "cell_type": "code",
   "execution_count": 22,
   "metadata": {},
   "outputs": [],
   "source": [
    "df['Sizek']=df['SizeM'].str.replace('k','')\n",
    "df['Sizek'].fillna(df['SizeM'],inplace=True)\n",
    "df['SizeK']=df[df['Size'].str.contains('K')]['Size'].str.replace('K','').astype(float)\n",
    "df['Sizek']=pd.to_numeric(df['Sizek'], errors='coerce') \n",
    "#change the size column to numeric and varies with device would change to null values"
   ]
  },
  {
   "cell_type": "code",
   "execution_count": 23,
   "metadata": {},
   "outputs": [
    {
     "data": {
      "text/plain": [
       "<matplotlib.axes._subplots.AxesSubplot at 0x1a2193f828>"
      ]
     },
     "execution_count": 23,
     "metadata": {},
     "output_type": "execute_result"
    },
    {
     "data": {
      "image/png": "[encoded data removed]",
      "text/plain": [
       "<Figure size 432x288 with 1 Axes>"
      ]
     },
     "metadata": {},
     "output_type": "display_data"
    }
   ],
   "source": [
    "#Assuming that majorly apps in the same category would lie in similar size (mb) range\n",
    "df['Sizek']=df.groupby('Category')['Sizek'].transform(lambda x: x.fillna(x.mean())) #fill null values with category wise mean \n",
    "\n",
    "df['Sizek'].hist()"
   ]
  },
  {
   "cell_type": "code",
   "execution_count": 24,
   "metadata": {},
   "outputs": [],
   "source": [
    "#renaming 4.4W and up to cleaner version\n",
    "df['AndroidVer']=df['AndroidVer'].str.replace('4.4W and up','4.4 and up')"
   ]
  },
  {
   "cell_type": "code",
   "execution_count": 25,
   "metadata": {},
   "outputs": [],
   "source": [
    "#Last Updated Format Changed\n",
    "df['LastUpdated']=pd.to_datetime(df['LastUpdated'],infer_datetime_format=True)"
   ]
  },
  {
   "cell_type": "code",
   "execution_count": 26,
   "metadata": {},
   "outputs": [
    {
     "data": {
      "text/plain": [
       "LastUpdated\n",
       "2010       1\n",
       "2011      15\n",
       "2012      21\n",
       "2013      93\n",
       "2014     190\n",
       "2015     388\n",
       "2016     651\n",
       "2017    1497\n",
       "2018    6504\n",
       "Name: AndroidVer, dtype: int64"
      ]
     },
     "execution_count": 26,
     "metadata": {},
     "output_type": "execute_result"
    }
   ],
   "source": [
    "df.groupby(df['LastUpdated'].dt.year)['AndroidVer'].size()"
   ]
  },
  {
   "cell_type": "code",
   "execution_count": 27,
   "metadata": {},
   "outputs": [],
   "source": [
    "yrtover=pd.crosstab(index=df['LastUpdated'].dt.year, columns=df['AndroidVer'])"
   ]
  },
  {
   "cell_type": "code",
   "execution_count": 28,
   "metadata": {},
   "outputs": [],
   "source": [
    "pd.set_option('max_columns', 100)"
   ]
  },
  {
   "cell_type": "code",
   "execution_count": 29,
   "metadata": {},
   "outputs": [
    {
     "data": {
      "text/html": [
       "<div>\n",
       "<style scoped>\n",
       "    .dataframe tbody tr th:only-of-type {\n",
       "        vertical-align: middle;\n",
       "    }\n",
       "\n",
       "    .dataframe tbody tr th {\n",
       "        vertical-align: top;\n",
       "    }\n",
       "\n",
       "    .dataframe thead th {\n",
       "        text-align: right;\n",
       "    }\n",
       "</style>\n",
       "<table border=\"1\" class=\"dataframe\">\n",
       "  <thead>\n",
       "    <tr style=\"text-align: right;\">\n",
       "      <th>AndroidVer</th>\n",
       "      <th>1.0 and up</th>\n",
       "      <th>1.5 and up</th>\n",
       "      <th>1.6 and up</th>\n",
       "      <th>2.0 and up</th>\n",
       "      <th>2.0.1 and up</th>\n",
       "      <th>2.1 and up</th>\n",
       "      <th>2.2 and up</th>\n",
       "      <th>2.3 and up</th>\n",
       "      <th>2.3.3 and up</th>\n",
       "      <th>3.0 and up</th>\n",
       "      <th>3.1 and up</th>\n",
       "      <th>3.2 and up</th>\n",
       "      <th>4.0 and up</th>\n",
       "      <th>4.0.3 - 7.1.1</th>\n",
       "      <th>4.0.3 and up</th>\n",
       "      <th>4.1 - 7.1.1</th>\n",
       "      <th>4.1 and up</th>\n",
       "      <th>4.2 and up</th>\n",
       "      <th>4.3 and up</th>\n",
       "      <th>4.4 and up</th>\n",
       "      <th>5.0 - 6.0</th>\n",
       "      <th>5.0 - 8.0</th>\n",
       "      <th>5.0 and up</th>\n",
       "      <th>5.1 and up</th>\n",
       "      <th>6.0 and up</th>\n",
       "      <th>7.0 - 7.1.1</th>\n",
       "      <th>7.0 and up</th>\n",
       "      <th>7.1 and up</th>\n",
       "      <th>8.0 and up</th>\n",
       "      <th>Varies with device</th>\n",
       "    </tr>\n",
       "    <tr>\n",
       "      <th>LastUpdated</th>\n",
       "      <th></th>\n",
       "      <th></th>\n",
       "      <th></th>\n",
       "      <th></th>\n",
       "      <th></th>\n",
       "      <th></th>\n",
       "      <th></th>\n",
       "      <th></th>\n",
       "      <th></th>\n",
       "      <th></th>\n",
       "      <th></th>\n",
       "      <th></th>\n",
       "      <th></th>\n",
       "      <th></th>\n",
       "      <th></th>\n",
       "      <th></th>\n",
       "      <th></th>\n",
       "      <th></th>\n",
       "      <th></th>\n",
       "      <th></th>\n",
       "      <th></th>\n",
       "      <th></th>\n",
       "      <th></th>\n",
       "      <th></th>\n",
       "      <th></th>\n",
       "      <th></th>\n",
       "      <th></th>\n",
       "      <th></th>\n",
       "      <th></th>\n",
       "      <th></th>\n",
       "    </tr>\n",
       "  </thead>\n",
       "  <tbody>\n",
       "    <tr>\n",
       "      <th>2010</th>\n",
       "      <td>0</td>\n",
       "      <td>1</td>\n",
       "      <td>0</td>\n",
       "      <td>0</td>\n",
       "      <td>0</td>\n",
       "      <td>0</td>\n",
       "      <td>0</td>\n",
       "      <td>0</td>\n",
       "      <td>0</td>\n",
       "      <td>0</td>\n",
       "      <td>0</td>\n",
       "      <td>0</td>\n",
       "      <td>0</td>\n",
       "      <td>0</td>\n",
       "      <td>0</td>\n",
       "      <td>0</td>\n",
       "      <td>0</td>\n",
       "      <td>0</td>\n",
       "      <td>0</td>\n",
       "      <td>0</td>\n",
       "      <td>0</td>\n",
       "      <td>0</td>\n",
       "      <td>0</td>\n",
       "      <td>0</td>\n",
       "      <td>0</td>\n",
       "      <td>0</td>\n",
       "      <td>0</td>\n",
       "      <td>0</td>\n",
       "      <td>0</td>\n",
       "      <td>0</td>\n",
       "    </tr>\n",
       "    <tr>\n",
       "      <th>2011</th>\n",
       "      <td>0</td>\n",
       "      <td>1</td>\n",
       "      <td>7</td>\n",
       "      <td>1</td>\n",
       "      <td>0</td>\n",
       "      <td>6</td>\n",
       "      <td>0</td>\n",
       "      <td>0</td>\n",
       "      <td>0</td>\n",
       "      <td>0</td>\n",
       "      <td>0</td>\n",
       "      <td>0</td>\n",
       "      <td>0</td>\n",
       "      <td>0</td>\n",
       "      <td>0</td>\n",
       "      <td>0</td>\n",
       "      <td>0</td>\n",
       "      <td>0</td>\n",
       "      <td>0</td>\n",
       "      <td>0</td>\n",
       "      <td>0</td>\n",
       "      <td>0</td>\n",
       "      <td>0</td>\n",
       "      <td>0</td>\n",
       "      <td>0</td>\n",
       "      <td>0</td>\n",
       "      <td>0</td>\n",
       "      <td>0</td>\n",
       "      <td>0</td>\n",
       "      <td>0</td>\n",
       "    </tr>\n",
       "    <tr>\n",
       "      <th>2012</th>\n",
       "      <td>0</td>\n",
       "      <td>1</td>\n",
       "      <td>0</td>\n",
       "      <td>1</td>\n",
       "      <td>1</td>\n",
       "      <td>11</td>\n",
       "      <td>5</td>\n",
       "      <td>0</td>\n",
       "      <td>1</td>\n",
       "      <td>0</td>\n",
       "      <td>0</td>\n",
       "      <td>0</td>\n",
       "      <td>0</td>\n",
       "      <td>0</td>\n",
       "      <td>0</td>\n",
       "      <td>0</td>\n",
       "      <td>0</td>\n",
       "      <td>0</td>\n",
       "      <td>0</td>\n",
       "      <td>0</td>\n",
       "      <td>0</td>\n",
       "      <td>0</td>\n",
       "      <td>0</td>\n",
       "      <td>0</td>\n",
       "      <td>0</td>\n",
       "      <td>0</td>\n",
       "      <td>0</td>\n",
       "      <td>0</td>\n",
       "      <td>0</td>\n",
       "      <td>1</td>\n",
       "    </tr>\n",
       "    <tr>\n",
       "      <th>2013</th>\n",
       "      <td>0</td>\n",
       "      <td>2</td>\n",
       "      <td>9</td>\n",
       "      <td>2</td>\n",
       "      <td>3</td>\n",
       "      <td>25</td>\n",
       "      <td>33</td>\n",
       "      <td>5</td>\n",
       "      <td>3</td>\n",
       "      <td>4</td>\n",
       "      <td>1</td>\n",
       "      <td>1</td>\n",
       "      <td>0</td>\n",
       "      <td>0</td>\n",
       "      <td>0</td>\n",
       "      <td>0</td>\n",
       "      <td>0</td>\n",
       "      <td>0</td>\n",
       "      <td>0</td>\n",
       "      <td>0</td>\n",
       "      <td>0</td>\n",
       "      <td>0</td>\n",
       "      <td>0</td>\n",
       "      <td>0</td>\n",
       "      <td>0</td>\n",
       "      <td>0</td>\n",
       "      <td>0</td>\n",
       "      <td>0</td>\n",
       "      <td>0</td>\n",
       "      <td>5</td>\n",
       "    </tr>\n",
       "    <tr>\n",
       "      <th>2014</th>\n",
       "      <td>1</td>\n",
       "      <td>1</td>\n",
       "      <td>9</td>\n",
       "      <td>6</td>\n",
       "      <td>2</td>\n",
       "      <td>22</td>\n",
       "      <td>41</td>\n",
       "      <td>36</td>\n",
       "      <td>14</td>\n",
       "      <td>10</td>\n",
       "      <td>0</td>\n",
       "      <td>0</td>\n",
       "      <td>18</td>\n",
       "      <td>0</td>\n",
       "      <td>8</td>\n",
       "      <td>0</td>\n",
       "      <td>9</td>\n",
       "      <td>4</td>\n",
       "      <td>1</td>\n",
       "      <td>1</td>\n",
       "      <td>0</td>\n",
       "      <td>0</td>\n",
       "      <td>0</td>\n",
       "      <td>0</td>\n",
       "      <td>0</td>\n",
       "      <td>0</td>\n",
       "      <td>0</td>\n",
       "      <td>0</td>\n",
       "      <td>0</td>\n",
       "      <td>7</td>\n",
       "    </tr>\n",
       "    <tr>\n",
       "      <th>2015</th>\n",
       "      <td>0</td>\n",
       "      <td>3</td>\n",
       "      <td>17</td>\n",
       "      <td>3</td>\n",
       "      <td>0</td>\n",
       "      <td>9</td>\n",
       "      <td>44</td>\n",
       "      <td>82</td>\n",
       "      <td>47</td>\n",
       "      <td>49</td>\n",
       "      <td>2</td>\n",
       "      <td>4</td>\n",
       "      <td>52</td>\n",
       "      <td>0</td>\n",
       "      <td>23</td>\n",
       "      <td>0</td>\n",
       "      <td>13</td>\n",
       "      <td>7</td>\n",
       "      <td>5</td>\n",
       "      <td>2</td>\n",
       "      <td>0</td>\n",
       "      <td>0</td>\n",
       "      <td>12</td>\n",
       "      <td>1</td>\n",
       "      <td>0</td>\n",
       "      <td>0</td>\n",
       "      <td>0</td>\n",
       "      <td>0</td>\n",
       "      <td>0</td>\n",
       "      <td>13</td>\n",
       "    </tr>\n",
       "    <tr>\n",
       "      <th>2016</th>\n",
       "      <td>0</td>\n",
       "      <td>3</td>\n",
       "      <td>5</td>\n",
       "      <td>8</td>\n",
       "      <td>0</td>\n",
       "      <td>9</td>\n",
       "      <td>30</td>\n",
       "      <td>112</td>\n",
       "      <td>64</td>\n",
       "      <td>32</td>\n",
       "      <td>3</td>\n",
       "      <td>9</td>\n",
       "      <td>120</td>\n",
       "      <td>0</td>\n",
       "      <td>83</td>\n",
       "      <td>0</td>\n",
       "      <td>61</td>\n",
       "      <td>15</td>\n",
       "      <td>12</td>\n",
       "      <td>31</td>\n",
       "      <td>1</td>\n",
       "      <td>0</td>\n",
       "      <td>8</td>\n",
       "      <td>0</td>\n",
       "      <td>2</td>\n",
       "      <td>0</td>\n",
       "      <td>0</td>\n",
       "      <td>0</td>\n",
       "      <td>0</td>\n",
       "      <td>43</td>\n",
       "    </tr>\n",
       "    <tr>\n",
       "      <th>2017</th>\n",
       "      <td>0</td>\n",
       "      <td>2</td>\n",
       "      <td>31</td>\n",
       "      <td>1</td>\n",
       "      <td>0</td>\n",
       "      <td>14</td>\n",
       "      <td>35</td>\n",
       "      <td>182</td>\n",
       "      <td>57</td>\n",
       "      <td>61</td>\n",
       "      <td>2</td>\n",
       "      <td>8</td>\n",
       "      <td>248</td>\n",
       "      <td>0</td>\n",
       "      <td>244</td>\n",
       "      <td>1</td>\n",
       "      <td>305</td>\n",
       "      <td>49</td>\n",
       "      <td>32</td>\n",
       "      <td>93</td>\n",
       "      <td>0</td>\n",
       "      <td>1</td>\n",
       "      <td>27</td>\n",
       "      <td>4</td>\n",
       "      <td>11</td>\n",
       "      <td>0</td>\n",
       "      <td>3</td>\n",
       "      <td>1</td>\n",
       "      <td>0</td>\n",
       "      <td>85</td>\n",
       "    </tr>\n",
       "    <tr>\n",
       "      <th>2018</th>\n",
       "      <td>1</td>\n",
       "      <td>1</td>\n",
       "      <td>9</td>\n",
       "      <td>5</td>\n",
       "      <td>1</td>\n",
       "      <td>17</td>\n",
       "      <td>20</td>\n",
       "      <td>165</td>\n",
       "      <td>54</td>\n",
       "      <td>55</td>\n",
       "      <td>0</td>\n",
       "      <td>9</td>\n",
       "      <td>691</td>\n",
       "      <td>2</td>\n",
       "      <td>882</td>\n",
       "      <td>0</td>\n",
       "      <td>1671</td>\n",
       "      <td>262</td>\n",
       "      <td>157</td>\n",
       "      <td>754</td>\n",
       "      <td>0</td>\n",
       "      <td>1</td>\n",
       "      <td>488</td>\n",
       "      <td>13</td>\n",
       "      <td>35</td>\n",
       "      <td>1</td>\n",
       "      <td>38</td>\n",
       "      <td>2</td>\n",
       "      <td>5</td>\n",
       "      <td>1165</td>\n",
       "    </tr>\n",
       "  </tbody>\n",
       "</table>\n",
       "</div>"
      ],
      "text/plain": [
       "AndroidVer   1.0 and up  1.5 and up  1.6 and up  2.0 and up  2.0.1 and up  \\\n",
       "LastUpdated                                                                 \n",
       "2010                  0           1           0           0             0   \n",
       "2011                  0           1           7           1             0   \n",
       "2012                  0           1           0           1             1   \n",
       "2013                  0           2           9           2             3   \n",
       "2014                  1           1           9           6             2   \n",
       "2015                  0           3          17           3             0   \n",
       "2016                  0           3           5           8             0   \n",
       "2017                  0           2          31           1             0   \n",
       "2018                  1           1           9           5             1   \n",
       "\n",
       "AndroidVer   2.1 and up  2.2 and up  2.3 and up  2.3.3 and up  3.0 and up  \\\n",
       "LastUpdated                                                                 \n",
       "2010                  0           0           0             0           0   \n",
       "2011                  6           0           0             0           0   \n",
       "2012                 11           5           0             1           0   \n",
       "2013                 25          33           5             3           4   \n",
       "2014                 22          41          36            14          10   \n",
       "2015                  9          44          82            47          49   \n",
       "2016                  9          30         112            64          32   \n",
       "2017                 14          35         182            57          61   \n",
       "2018                 17          20         165            54          55   \n",
       "\n",
       "AndroidVer   3.1 and up  3.2 and up  4.0 and up  4.0.3 - 7.1.1  4.0.3 and up  \\\n",
       "LastUpdated                                                                    \n",
       "2010                  0           0           0              0             0   \n",
       "2011                  0           0           0              0             0   \n",
       "2012                  0           0           0              0             0   \n",
       "2013                  1           1           0              0             0   \n",
       "2014                  0           0          18              0             8   \n",
       "2015                  2           4          52              0            23   \n",
       "2016                  3           9         120              0            83   \n",
       "2017                  2           8         248              0           244   \n",
       "2018                  0           9         691              2           882   \n",
       "\n",
       "AndroidVer   4.1 - 7.1.1  4.1 and up  4.2 and up  4.3 and up  4.4 and up  \\\n",
       "LastUpdated                                                                \n",
       "2010                   0           0           0           0           0   \n",
       "2011                   0           0           0           0           0   \n",
       "2012                   0           0           0           0           0   \n",
       "2013                   0           0           0           0           0   \n",
       "2014                   0           9           4           1           1   \n",
       "2015                   0          13           7           5           2   \n",
       "2016                   0          61          15          12          31   \n",
       "2017                   1         305          49          32          93   \n",
       "2018                   0        1671         262         157         754   \n",
       "\n",
       "AndroidVer   5.0 - 6.0  5.0 - 8.0  5.0 and up  5.1 and up  6.0 and up  \\\n",
       "LastUpdated                                                             \n",
       "2010                 0          0           0           0           0   \n",
       "2011                 0          0           0           0           0   \n",
       "2012                 0          0           0           0           0   \n",
       "2013                 0          0           0           0           0   \n",
       "2014                 0          0           0           0           0   \n",
       "2015                 0          0          12           1           0   \n",
       "2016                 1          0           8           0           2   \n",
       "2017                 0          1          27           4          11   \n",
       "2018                 0          1         488          13          35   \n",
       "\n",
       "AndroidVer   7.0 - 7.1.1  7.0 and up  7.1 and up  8.0 and up  \\\n",
       "LastUpdated                                                    \n",
       "2010                   0           0           0           0   \n",
       "2011                   0           0           0           0   \n",
       "2012                   0           0           0           0   \n",
       "2013                   0           0           0           0   \n",
       "2014                   0           0           0           0   \n",
       "2015                   0           0           0           0   \n",
       "2016                   0           0           0           0   \n",
       "2017                   0           3           1           0   \n",
       "2018                   1          38           2           5   \n",
       "\n",
       "AndroidVer   Varies with device  \n",
       "LastUpdated                      \n",
       "2010                          0  \n",
       "2011                          0  \n",
       "2012                          1  \n",
       "2013                          5  \n",
       "2014                          7  \n",
       "2015                         13  \n",
       "2016                         43  \n",
       "2017                         85  \n",
       "2018                       1165  "
      ]
     },
     "execution_count": 29,
     "metadata": {},
     "output_type": "execute_result"
    }
   ],
   "source": [
    "yrtover.head(10)"
   ]
  },
  {
   "cell_type": "code",
   "execution_count": 30,
   "metadata": {},
   "outputs": [
    {
     "data": {
      "text/plain": [
       "<matplotlib.legend.Legend at 0x1a21ba4898>"
      ]
     },
     "execution_count": 30,
     "metadata": {},
     "output_type": "execute_result"
    },
    {
     "data": {
      "image/png": "[encoded data removed]",
      "text/plain": [
       "<Figure size 1080x1080 with 1 Axes>"
      ]
     },
     "metadata": {},
     "output_type": "display_data"
    }
   ],
   "source": [
    "yrtover.plot(kind=\"barh\", figsize=(15,15),stacked=True)\n",
    "plt.legend(bbox_to_anchor=(1.0,1.0))"
   ]
  },
  {
   "cell_type": "code",
   "execution_count": 31,
   "metadata": {},
   "outputs": [
    {
     "data": {
      "text/plain": [
       "<seaborn.axisgrid.JointGrid at 0x1a21c65be0>"
      ]
     },
     "execution_count": 31,
     "metadata": {},
     "output_type": "execute_result"
    },
    {
     "data": {
      "image/png": "[encoded data removed]",
      "text/plain": [
       "<Figure size 432x432 with 3 Axes>"
      ]
     },
     "metadata": {},
     "output_type": "display_data"
    }
   ],
   "source": [
    "sns.jointplot('Installs','Rating',data=df)"
   ]
  },
  {
   "cell_type": "code",
   "execution_count": 32,
   "metadata": {
    "scrolled": true
   },
   "outputs": [
    {
     "data": {
      "text/plain": [
       "<matplotlib.axes._subplots.AxesSubplot at 0x1a0d9f3f60>"
      ]
     },
     "execution_count": 32,
     "metadata": {},
     "output_type": "execute_result"
    },
    {
     "data": {
      "image/png": "[encoded data removed]",
      "text/plain": [
       "<Figure size 432x288 with 1 Axes>"
      ]
     },
     "metadata": {},
     "output_type": "display_data"
    }
   ],
   "source": [
    "df['Rating'].hist(bins=20)"
   ]
  },
  {
   "cell_type": "code",
   "execution_count": 33,
   "metadata": {},
   "outputs": [
    {
     "data": {
      "text/plain": [
       "LastUpdated\n",
       "2010       1\n",
       "2011      15\n",
       "2012      21\n",
       "2013      93\n",
       "2014     190\n",
       "2015     388\n",
       "2016     651\n",
       "2017    1497\n",
       "2018    6504\n",
       "Name: AndroidVer, dtype: int64"
      ]
     },
     "execution_count": 33,
     "metadata": {},
     "output_type": "execute_result"
    }
   ],
   "source": [
    "df.groupby(df['LastUpdated'].dt.year)['AndroidVer'].size()"
   ]
  },
  {
   "cell_type": "code",
   "execution_count": 34,
   "metadata": {},
   "outputs": [
    {
     "name": "stdout",
     "output_type": "stream",
     "text": [
      "<class 'pandas.core.frame.DataFrame'>\n",
      "Int64Index: 9360 entries, 0 to 10840\n",
      "Data columns (total 17 columns):\n",
      "AppName          9360 non-null object\n",
      "Category         9360 non-null object\n",
      "Rating           9360 non-null float64\n",
      "Reviews          9360 non-null int64\n",
      "Size             9360 non-null object\n",
      "Installs         9360 non-null int64\n",
      "Type             9360 non-null object\n",
      "Price            9360 non-null object\n",
      "ContentRating    9360 non-null object\n",
      "Genres           9360 non-null object\n",
      "LastUpdated      9360 non-null datetime64[ns]\n",
      "CurrentVer       9360 non-null object\n",
      "AndroidVer       9360 non-null object\n",
      "Price$           9360 non-null float64\n",
      "SizeM            9360 non-null object\n",
      "Sizek            9360 non-null float64\n",
      "SizeK            0 non-null float64\n",
      "dtypes: datetime64[ns](1), float64(4), int64(2), object(10)\n",
      "memory usage: 1.6+ MB\n"
     ]
    },
    {
     "data": {
      "text/plain": [
       "AppName             0\n",
       "Category            0\n",
       "Rating              0\n",
       "Reviews             0\n",
       "Size                0\n",
       "Installs            0\n",
       "Type                0\n",
       "Price               0\n",
       "ContentRating       0\n",
       "Genres              0\n",
       "LastUpdated         0\n",
       "CurrentVer          0\n",
       "AndroidVer          0\n",
       "Price$              0\n",
       "SizeM               0\n",
       "Sizek               0\n",
       "SizeK            9360\n",
       "dtype: int64"
      ]
     },
     "execution_count": 34,
     "metadata": {},
     "output_type": "execute_result"
    }
   ],
   "source": [
    "df.info()\n",
    "df.isnull().sum() #Null Data Sum"
   ]
  },
  {
   "cell_type": "code",
   "execution_count": 35,
   "metadata": {},
   "outputs": [
    {
     "data": {
      "text/html": [
       "<div>\n",
       "<style scoped>\n",
       "    .dataframe tbody tr th:only-of-type {\n",
       "        vertical-align: middle;\n",
       "    }\n",
       "\n",
       "    .dataframe tbody tr th {\n",
       "        vertical-align: top;\n",
       "    }\n",
       "\n",
       "    .dataframe thead th {\n",
       "        text-align: right;\n",
       "    }\n",
       "</style>\n",
       "<table border=\"1\" class=\"dataframe\">\n",
       "  <thead>\n",
       "    <tr style=\"text-align: right;\">\n",
       "      <th></th>\n",
       "      <th>AppName</th>\n",
       "      <th>Category</th>\n",
       "      <th>Rating</th>\n",
       "      <th>Reviews</th>\n",
       "      <th>Size</th>\n",
       "      <th>Installs</th>\n",
       "      <th>Type</th>\n",
       "      <th>Price</th>\n",
       "      <th>ContentRating</th>\n",
       "      <th>Genres</th>\n",
       "      <th>LastUpdated</th>\n",
       "      <th>CurrentVer</th>\n",
       "      <th>AndroidVer</th>\n",
       "      <th>Price$</th>\n",
       "      <th>SizeM</th>\n",
       "      <th>Sizek</th>\n",
       "      <th>SizeK</th>\n",
       "      <th>Target</th>\n",
       "    </tr>\n",
       "  </thead>\n",
       "  <tbody>\n",
       "    <tr>\n",
       "      <th>0</th>\n",
       "      <td>Photo Editor &amp; Candy Camera &amp; Grid &amp; ScrapBook</td>\n",
       "      <td>ART_AND_DESIGN</td>\n",
       "      <td>4.1</td>\n",
       "      <td>159</td>\n",
       "      <td>19M</td>\n",
       "      <td>10000</td>\n",
       "      <td>Free</td>\n",
       "      <td>0</td>\n",
       "      <td>Everyone</td>\n",
       "      <td>Art &amp; Design</td>\n",
       "      <td>2018-01-07</td>\n",
       "      <td>1.0.0</td>\n",
       "      <td>4.0.3 and up</td>\n",
       "      <td>0.0</td>\n",
       "      <td>19000</td>\n",
       "      <td>19000.0</td>\n",
       "      <td>NaN</td>\n",
       "      <td>0</td>\n",
       "    </tr>\n",
       "    <tr>\n",
       "      <th>1</th>\n",
       "      <td>Coloring book moana</td>\n",
       "      <td>ART_AND_DESIGN</td>\n",
       "      <td>3.9</td>\n",
       "      <td>967</td>\n",
       "      <td>14M</td>\n",
       "      <td>500000</td>\n",
       "      <td>Free</td>\n",
       "      <td>0</td>\n",
       "      <td>Everyone</td>\n",
       "      <td>Art &amp; Design;Pretend Play</td>\n",
       "      <td>2018-01-15</td>\n",
       "      <td>2.0.0</td>\n",
       "      <td>4.0.3 and up</td>\n",
       "      <td>0.0</td>\n",
       "      <td>14000</td>\n",
       "      <td>14000.0</td>\n",
       "      <td>NaN</td>\n",
       "      <td>0</td>\n",
       "    </tr>\n",
       "    <tr>\n",
       "      <th>2</th>\n",
       "      <td>U Launcher Lite – FREE Live Cool Themes, Hide ...</td>\n",
       "      <td>ART_AND_DESIGN</td>\n",
       "      <td>4.7</td>\n",
       "      <td>87510</td>\n",
       "      <td>8.7M</td>\n",
       "      <td>5000000</td>\n",
       "      <td>Free</td>\n",
       "      <td>0</td>\n",
       "      <td>Everyone</td>\n",
       "      <td>Art &amp; Design</td>\n",
       "      <td>2018-08-01</td>\n",
       "      <td>1.2.4</td>\n",
       "      <td>4.0.3 and up</td>\n",
       "      <td>0.0</td>\n",
       "      <td>8700</td>\n",
       "      <td>8700.0</td>\n",
       "      <td>NaN</td>\n",
       "      <td>1</td>\n",
       "    </tr>\n",
       "    <tr>\n",
       "      <th>3</th>\n",
       "      <td>Sketch - Draw &amp; Paint</td>\n",
       "      <td>ART_AND_DESIGN</td>\n",
       "      <td>4.5</td>\n",
       "      <td>215644</td>\n",
       "      <td>25M</td>\n",
       "      <td>50000000</td>\n",
       "      <td>Free</td>\n",
       "      <td>0</td>\n",
       "      <td>Teen</td>\n",
       "      <td>Art &amp; Design</td>\n",
       "      <td>2018-06-08</td>\n",
       "      <td>Varies with device</td>\n",
       "      <td>4.2 and up</td>\n",
       "      <td>0.0</td>\n",
       "      <td>25000</td>\n",
       "      <td>25000.0</td>\n",
       "      <td>NaN</td>\n",
       "      <td>1</td>\n",
       "    </tr>\n",
       "    <tr>\n",
       "      <th>4</th>\n",
       "      <td>Pixel Draw - Number Art Coloring Book</td>\n",
       "      <td>ART_AND_DESIGN</td>\n",
       "      <td>4.3</td>\n",
       "      <td>967</td>\n",
       "      <td>2.8M</td>\n",
       "      <td>100000</td>\n",
       "      <td>Free</td>\n",
       "      <td>0</td>\n",
       "      <td>Everyone</td>\n",
       "      <td>Art &amp; Design;Creativity</td>\n",
       "      <td>2018-06-20</td>\n",
       "      <td>1.1</td>\n",
       "      <td>4.4 and up</td>\n",
       "      <td>0.0</td>\n",
       "      <td>2800</td>\n",
       "      <td>2800.0</td>\n",
       "      <td>NaN</td>\n",
       "      <td>0</td>\n",
       "    </tr>\n",
       "  </tbody>\n",
       "</table>\n",
       "</div>"
      ],
      "text/plain": [
       "                                             AppName        Category  Rating  \\\n",
       "0     Photo Editor & Candy Camera & Grid & ScrapBook  ART_AND_DESIGN     4.1   \n",
       "1                                Coloring book moana  ART_AND_DESIGN     3.9   \n",
       "2  U Launcher Lite – FREE Live Cool Themes, Hide ...  ART_AND_DESIGN     4.7   \n",
       "3                              Sketch - Draw & Paint  ART_AND_DESIGN     4.5   \n",
       "4              Pixel Draw - Number Art Coloring Book  ART_AND_DESIGN     4.3   \n",
       "\n",
       "   Reviews  Size  Installs  Type Price ContentRating  \\\n",
       "0      159   19M     10000  Free     0      Everyone   \n",
       "1      967   14M    500000  Free     0      Everyone   \n",
       "2    87510  8.7M   5000000  Free     0      Everyone   \n",
       "3   215644   25M  50000000  Free     0          Teen   \n",
       "4      967  2.8M    100000  Free     0      Everyone   \n",
       "\n",
       "                      Genres LastUpdated          CurrentVer    AndroidVer  \\\n",
       "0               Art & Design  2018-01-07               1.0.0  4.0.3 and up   \n",
       "1  Art & Design;Pretend Play  2018-01-15               2.0.0  4.0.3 and up   \n",
       "2               Art & Design  2018-08-01               1.2.4  4.0.3 and up   \n",
       "3               Art & Design  2018-06-08  Varies with device    4.2 and up   \n",
       "4    Art & Design;Creativity  2018-06-20                 1.1    4.4 and up   \n",
       "\n",
       "   Price$  SizeM    Sizek  SizeK  Target  \n",
       "0     0.0  19000  19000.0    NaN       0  \n",
       "1     0.0  14000  14000.0    NaN       0  \n",
       "2     0.0   8700   8700.0    NaN       1  \n",
       "3     0.0  25000  25000.0    NaN       1  \n",
       "4     0.0   2800   2800.0    NaN       0  "
      ]
     },
     "execution_count": 35,
     "metadata": {},
     "output_type": "execute_result"
    }
   ],
   "source": [
    "df['Target'] = np.where(df['Installs']>=1000000, 1, 0)\n",
    "df.head()"
   ]
  },
  {
   "cell_type": "code",
   "execution_count": 36,
   "metadata": {},
   "outputs": [
    {
     "data": {
      "text/plain": [
       "Text(0,0.5,'PCA2')"
      ]
     },
     "execution_count": 36,
     "metadata": {},
     "output_type": "execute_result"
    },
    {
     "data": {
      "image/png": "[encoded data removed]",
      "text/plain": [
       "<Figure size 432x288 with 1 Axes>"
      ]
     },
     "metadata": {},
     "output_type": "display_data"
    }
   ],
   "source": [
    "from sklearn.decomposition import PCA\n",
    "from matplotlib import pyplot as plt\n",
    "\n",
    "pca = PCA(n_components=2)\n",
    "cols=['Installs','Rating']\n",
    "X_pca=pca.fit_transform(df[cols])\n",
    "X_pca_pd=pd.DataFrame(data=X_pca, columns=['PCA1','PCA2'])\n",
    "plt.scatter(X_pca_pd.PCA1,X_pca_pd.PCA2)\n",
    "plt.xlabel('PCA1')\n",
    "plt.ylabel('PCA2')"
   ]
  },
  {
   "cell_type": "code",
   "execution_count": 37,
   "metadata": {},
   "outputs": [
    {
     "data": {
      "text/plain": [
       "Text(0,0.5,'PCA2')"
      ]
     },
     "execution_count": 37,
     "metadata": {},
     "output_type": "execute_result"
    },
    {
     "data": {
      "image/png": "[encoded data removed]",
      "text/plain": [
       "<Figure size 432x288 with 1 Axes>"
      ]
     },
     "metadata": {},
     "output_type": "display_data"
    }
   ],
   "source": [
    "pca = PCA(n_components=2)\n",
    "\n",
    "new_columns_to_use=['Rating','Reviews','Installs','Price$','Target']\n",
    "#cols=['Installs','Rating']\n",
    "X_pca=pca.fit_transform(df[cols])\n",
    "X_pca_pd=pd.DataFrame(data=X_pca, columns=['PCA1','PCA2'])\n",
    "plt.scatter(X_pca_pd.PCA1,X_pca_pd.PCA2,c=df.Target)\n",
    "plt.xlabel('PCA1')\n",
    "plt.ylabel('PCA2')"
   ]
  },
  {
   "cell_type": "code",
   "execution_count": 38,
   "metadata": {},
   "outputs": [
    {
     "data": {
      "text/plain": [
       "Text(0.5,0,'LDA1')"
      ]
     },
     "execution_count": 38,
     "metadata": {},
     "output_type": "execute_result"
    },
    {
     "data": {
      "image/png": "[encoded data removed]",
      "text/plain": [
       "<Figure size 432x288 with 1 Axes>"
      ]
     },
     "metadata": {},
     "output_type": "display_data"
    }
   ],
   "source": [
    "from sklearn.discriminant_analysis import LinearDiscriminantAnalysis\n",
    "\n",
    "new_columns_to_use=['Rating','Reviews','Installs','Price$','Target']\n",
    "\n",
    "lda=LinearDiscriminantAnalysis(n_components=2)\n",
    "X_lda=lda.fit_transform(df[new_columns_to_use],df.Target)\n",
    "y_lda=np.zeros(len(X_lda))\n",
    "X_lda_pd=pd.DataFrame(data=X_lda,columns=['LDA1'])\n",
    "plt.scatter(X_lda_pd.LDA1,y_lda,c=df.Target)\n",
    "plt.xlabel('LDA1')"
   ]
  },
  {
   "cell_type": "markdown",
   "metadata": {},
   "source": [
    "Use label encoder to convert category date to label"
   ]
  },
  {
   "cell_type": "code",
   "execution_count": 39,
   "metadata": {},
   "outputs": [
    {
     "data": {
      "text/html": [
       "<div>\n",
       "<style scoped>\n",
       "    .dataframe tbody tr th:only-of-type {\n",
       "        vertical-align: middle;\n",
       "    }\n",
       "\n",
       "    .dataframe tbody tr th {\n",
       "        vertical-align: top;\n",
       "    }\n",
       "\n",
       "    .dataframe thead th {\n",
       "        text-align: right;\n",
       "    }\n",
       "</style>\n",
       "<table border=\"1\" class=\"dataframe\">\n",
       "  <thead>\n",
       "    <tr style=\"text-align: right;\">\n",
       "      <th></th>\n",
       "      <th>AppName</th>\n",
       "      <th>Category</th>\n",
       "      <th>Rating</th>\n",
       "      <th>Reviews</th>\n",
       "      <th>Size</th>\n",
       "      <th>Installs</th>\n",
       "      <th>Type</th>\n",
       "      <th>Price</th>\n",
       "      <th>ContentRating</th>\n",
       "      <th>Genres</th>\n",
       "      <th>LastUpdated</th>\n",
       "      <th>CurrentVer</th>\n",
       "      <th>AndroidVer</th>\n",
       "      <th>Price$</th>\n",
       "      <th>SizeM</th>\n",
       "      <th>Sizek</th>\n",
       "      <th>SizeK</th>\n",
       "    </tr>\n",
       "  </thead>\n",
       "  <tbody>\n",
       "    <tr>\n",
       "      <th>0</th>\n",
       "      <td>Photo Editor &amp; Candy Camera &amp; Grid &amp; ScrapBook</td>\n",
       "      <td>0</td>\n",
       "      <td>4.1</td>\n",
       "      <td>159</td>\n",
       "      <td>19M</td>\n",
       "      <td>10000</td>\n",
       "      <td>0</td>\n",
       "      <td>0</td>\n",
       "      <td>1</td>\n",
       "      <td>9</td>\n",
       "      <td>2018-01-07</td>\n",
       "      <td>1.0.0</td>\n",
       "      <td>14</td>\n",
       "      <td>0.0</td>\n",
       "      <td>19000</td>\n",
       "      <td>19000.0</td>\n",
       "      <td>NaN</td>\n",
       "    </tr>\n",
       "    <tr>\n",
       "      <th>1</th>\n",
       "      <td>Coloring book moana</td>\n",
       "      <td>0</td>\n",
       "      <td>3.9</td>\n",
       "      <td>967</td>\n",
       "      <td>14M</td>\n",
       "      <td>500000</td>\n",
       "      <td>0</td>\n",
       "      <td>0</td>\n",
       "      <td>1</td>\n",
       "      <td>11</td>\n",
       "      <td>2018-01-15</td>\n",
       "      <td>2.0.0</td>\n",
       "      <td>14</td>\n",
       "      <td>0.0</td>\n",
       "      <td>14000</td>\n",
       "      <td>14000.0</td>\n",
       "      <td>NaN</td>\n",
       "    </tr>\n",
       "    <tr>\n",
       "      <th>2</th>\n",
       "      <td>U Launcher Lite – FREE Live Cool Themes, Hide ...</td>\n",
       "      <td>0</td>\n",
       "      <td>4.7</td>\n",
       "      <td>87510</td>\n",
       "      <td>8.7M</td>\n",
       "      <td>5000000</td>\n",
       "      <td>0</td>\n",
       "      <td>0</td>\n",
       "      <td>1</td>\n",
       "      <td>9</td>\n",
       "      <td>2018-08-01</td>\n",
       "      <td>1.2.4</td>\n",
       "      <td>14</td>\n",
       "      <td>0.0</td>\n",
       "      <td>8700</td>\n",
       "      <td>8700.0</td>\n",
       "      <td>NaN</td>\n",
       "    </tr>\n",
       "    <tr>\n",
       "      <th>3</th>\n",
       "      <td>Sketch - Draw &amp; Paint</td>\n",
       "      <td>0</td>\n",
       "      <td>4.5</td>\n",
       "      <td>215644</td>\n",
       "      <td>25M</td>\n",
       "      <td>50000000</td>\n",
       "      <td>0</td>\n",
       "      <td>0</td>\n",
       "      <td>4</td>\n",
       "      <td>9</td>\n",
       "      <td>2018-06-08</td>\n",
       "      <td>Varies with device</td>\n",
       "      <td>17</td>\n",
       "      <td>0.0</td>\n",
       "      <td>25000</td>\n",
       "      <td>25000.0</td>\n",
       "      <td>NaN</td>\n",
       "    </tr>\n",
       "    <tr>\n",
       "      <th>4</th>\n",
       "      <td>Pixel Draw - Number Art Coloring Book</td>\n",
       "      <td>0</td>\n",
       "      <td>4.3</td>\n",
       "      <td>967</td>\n",
       "      <td>2.8M</td>\n",
       "      <td>100000</td>\n",
       "      <td>0</td>\n",
       "      <td>0</td>\n",
       "      <td>1</td>\n",
       "      <td>10</td>\n",
       "      <td>2018-06-20</td>\n",
       "      <td>1.1</td>\n",
       "      <td>19</td>\n",
       "      <td>0.0</td>\n",
       "      <td>2800</td>\n",
       "      <td>2800.0</td>\n",
       "      <td>NaN</td>\n",
       "    </tr>\n",
       "  </tbody>\n",
       "</table>\n",
       "</div>"
      ],
      "text/plain": [
       "                                             AppName  Category  Rating  \\\n",
       "0     Photo Editor & Candy Camera & Grid & ScrapBook         0     4.1   \n",
       "1                                Coloring book moana         0     3.9   \n",
       "2  U Launcher Lite – FREE Live Cool Themes, Hide ...         0     4.7   \n",
       "3                              Sketch - Draw & Paint         0     4.5   \n",
       "4              Pixel Draw - Number Art Coloring Book         0     4.3   \n",
       "\n",
       "   Reviews  Size  Installs  Type Price  ContentRating  Genres LastUpdated  \\\n",
       "0      159   19M     10000     0     0              1       9  2018-01-07   \n",
       "1      967   14M    500000     0     0              1      11  2018-01-15   \n",
       "2    87510  8.7M   5000000     0     0              1       9  2018-08-01   \n",
       "3   215644   25M  50000000     0     0              4       9  2018-06-08   \n",
       "4      967  2.8M    100000     0     0              1      10  2018-06-20   \n",
       "\n",
       "           CurrentVer  AndroidVer  Price$  SizeM    Sizek  SizeK  \n",
       "0               1.0.0          14     0.0  19000  19000.0    NaN  \n",
       "1               2.0.0          14     0.0  14000  14000.0    NaN  \n",
       "2               1.2.4          14     0.0   8700   8700.0    NaN  \n",
       "3  Varies with device          17     0.0  25000  25000.0    NaN  \n",
       "4                 1.1          19     0.0   2800   2800.0    NaN  "
      ]
     },
     "execution_count": 39,
     "metadata": {},
     "output_type": "execute_result"
    }
   ],
   "source": [
    "from sklearn.preprocessing import LabelEncoder\n",
    "\n",
    "labelencoder = LabelEncoder()\n",
    "\n",
    "x=df.iloc[:,:-1]\n",
    "y=df.Target\n",
    "\n",
    "# select the categorical columns \n",
    "cols_index = [1, 6, 8, 9, 12]\n",
    "\n",
    "for i in cols_index:\n",
    "    x.iloc[:, i] = labelencoder.fit_transform(x.iloc[:, i])\n",
    "\n",
    "x.head()"
   ]
  },
  {
   "cell_type": "code",
   "execution_count": 40,
   "metadata": {},
   "outputs": [
    {
     "name": "stdout",
     "output_type": "stream",
     "text": [
      "<class 'pandas.core.frame.DataFrame'>\n",
      "Int64Index: 9360 entries, 0 to 10840\n",
      "Data columns (total 17 columns):\n",
      "AppName          9360 non-null object\n",
      "Category         9360 non-null int64\n",
      "Rating           9360 non-null float64\n",
      "Reviews          9360 non-null int64\n",
      "Size             9360 non-null object\n",
      "Installs         9360 non-null int64\n",
      "Type             9360 non-null int64\n",
      "Price            9360 non-null object\n",
      "ContentRating    9360 non-null int64\n",
      "Genres           9360 non-null int64\n",
      "LastUpdated      9360 non-null datetime64[ns]\n",
      "CurrentVer       9360 non-null object\n",
      "AndroidVer       9360 non-null int64\n",
      "Price$           9360 non-null float64\n",
      "SizeM            9360 non-null object\n",
      "Sizek            9360 non-null float64\n",
      "SizeK            0 non-null float64\n",
      "dtypes: datetime64[ns](1), float64(4), int64(7), object(5)\n",
      "memory usage: 1.6+ MB\n"
     ]
    }
   ],
   "source": [
    "x.info()"
   ]
  },
  {
   "cell_type": "code",
   "execution_count": 41,
   "metadata": {},
   "outputs": [
    {
     "data": {
      "text/html": [
       "<div>\n",
       "<style scoped>\n",
       "    .dataframe tbody tr th:only-of-type {\n",
       "        vertical-align: middle;\n",
       "    }\n",
       "\n",
       "    .dataframe tbody tr th {\n",
       "        vertical-align: top;\n",
       "    }\n",
       "\n",
       "    .dataframe thead th {\n",
       "        text-align: right;\n",
       "    }\n",
       "</style>\n",
       "<table border=\"1\" class=\"dataframe\">\n",
       "  <thead>\n",
       "    <tr style=\"text-align: right;\">\n",
       "      <th></th>\n",
       "      <th>Category</th>\n",
       "      <th>Rating</th>\n",
       "      <th>Reviews</th>\n",
       "      <th>Installs</th>\n",
       "      <th>Type</th>\n",
       "      <th>ContentRating</th>\n",
       "      <th>Genres</th>\n",
       "      <th>AndroidVer</th>\n",
       "      <th>Price$</th>\n",
       "      <th>Sizek</th>\n",
       "      <th>SizeK</th>\n",
       "    </tr>\n",
       "  </thead>\n",
       "  <tbody>\n",
       "    <tr>\n",
       "      <th>count</th>\n",
       "      <td>9360.000000</td>\n",
       "      <td>9360.000000</td>\n",
       "      <td>9.360000e+03</td>\n",
       "      <td>9.360000e+03</td>\n",
       "      <td>9360.000000</td>\n",
       "      <td>9360.000000</td>\n",
       "      <td>9360.000000</td>\n",
       "      <td>9360.000000</td>\n",
       "      <td>9360.000000</td>\n",
       "      <td>9360.000000</td>\n",
       "      <td>0.0</td>\n",
       "    </tr>\n",
       "    <tr>\n",
       "      <th>mean</th>\n",
       "      <td>16.799466</td>\n",
       "      <td>4.191838</td>\n",
       "      <td>5.143767e+05</td>\n",
       "      <td>1.790875e+07</td>\n",
       "      <td>0.068910</td>\n",
       "      <td>1.488462</td>\n",
       "      <td>62.290491</td>\n",
       "      <td>16.396688</td>\n",
       "      <td>0.961279</td>\n",
       "      <td>22495.626426</td>\n",
       "      <td>NaN</td>\n",
       "    </tr>\n",
       "    <tr>\n",
       "      <th>std</th>\n",
       "      <td>8.276260</td>\n",
       "      <td>0.515263</td>\n",
       "      <td>3.145023e+06</td>\n",
       "      <td>9.126637e+07</td>\n",
       "      <td>0.253315</td>\n",
       "      <td>1.022388</td>\n",
       "      <td>32.332336</td>\n",
       "      <td>6.675080</td>\n",
       "      <td>15.821640</td>\n",
       "      <td>21669.031913</td>\n",
       "      <td>NaN</td>\n",
       "    </tr>\n",
       "    <tr>\n",
       "      <th>min</th>\n",
       "      <td>0.000000</td>\n",
       "      <td>1.000000</td>\n",
       "      <td>1.000000e+00</td>\n",
       "      <td>1.000000e+00</td>\n",
       "      <td>0.000000</td>\n",
       "      <td>0.000000</td>\n",
       "      <td>0.000000</td>\n",
       "      <td>0.000000</td>\n",
       "      <td>0.000000</td>\n",
       "      <td>8.500000</td>\n",
       "      <td>NaN</td>\n",
       "    </tr>\n",
       "    <tr>\n",
       "      <th>25%</th>\n",
       "      <td>11.000000</td>\n",
       "      <td>4.000000</td>\n",
       "      <td>1.867500e+02</td>\n",
       "      <td>1.000000e+04</td>\n",
       "      <td>0.000000</td>\n",
       "      <td>1.000000</td>\n",
       "      <td>37.000000</td>\n",
       "      <td>12.000000</td>\n",
       "      <td>0.000000</td>\n",
       "      <td>6600.000000</td>\n",
       "      <td>NaN</td>\n",
       "    </tr>\n",
       "    <tr>\n",
       "      <th>50%</th>\n",
       "      <td>14.000000</td>\n",
       "      <td>4.300000</td>\n",
       "      <td>5.955000e+03</td>\n",
       "      <td>5.000000e+05</td>\n",
       "      <td>0.000000</td>\n",
       "      <td>1.000000</td>\n",
       "      <td>65.000000</td>\n",
       "      <td>16.000000</td>\n",
       "      <td>0.000000</td>\n",
       "      <td>16000.000000</td>\n",
       "      <td>NaN</td>\n",
       "    </tr>\n",
       "    <tr>\n",
       "      <th>75%</th>\n",
       "      <td>25.000000</td>\n",
       "      <td>4.500000</td>\n",
       "      <td>8.162750e+04</td>\n",
       "      <td>5.000000e+06</td>\n",
       "      <td>0.000000</td>\n",
       "      <td>1.000000</td>\n",
       "      <td>93.000000</td>\n",
       "      <td>19.000000</td>\n",
       "      <td>0.000000</td>\n",
       "      <td>30000.000000</td>\n",
       "      <td>NaN</td>\n",
       "    </tr>\n",
       "    <tr>\n",
       "      <th>max</th>\n",
       "      <td>32.000000</td>\n",
       "      <td>5.000000</td>\n",
       "      <td>7.815831e+07</td>\n",
       "      <td>1.000000e+09</td>\n",
       "      <td>1.000000</td>\n",
       "      <td>5.000000</td>\n",
       "      <td>114.000000</td>\n",
       "      <td>29.000000</td>\n",
       "      <td>400.000000</td>\n",
       "      <td>100000.000000</td>\n",
       "      <td>NaN</td>\n",
       "    </tr>\n",
       "  </tbody>\n",
       "</table>\n",
       "</div>"
      ],
      "text/plain": [
       "          Category       Rating       Reviews      Installs         Type  \\\n",
       "count  9360.000000  9360.000000  9.360000e+03  9.360000e+03  9360.000000   \n",
       "mean     16.799466     4.191838  5.143767e+05  1.790875e+07     0.068910   \n",
       "std       8.276260     0.515263  3.145023e+06  9.126637e+07     0.253315   \n",
       "min       0.000000     1.000000  1.000000e+00  1.000000e+00     0.000000   \n",
       "25%      11.000000     4.000000  1.867500e+02  1.000000e+04     0.000000   \n",
       "50%      14.000000     4.300000  5.955000e+03  5.000000e+05     0.000000   \n",
       "75%      25.000000     4.500000  8.162750e+04  5.000000e+06     0.000000   \n",
       "max      32.000000     5.000000  7.815831e+07  1.000000e+09     1.000000   \n",
       "\n",
       "       ContentRating       Genres   AndroidVer       Price$          Sizek  \\\n",
       "count    9360.000000  9360.000000  9360.000000  9360.000000    9360.000000   \n",
       "mean        1.488462    62.290491    16.396688     0.961279   22495.626426   \n",
       "std         1.022388    32.332336     6.675080    15.821640   21669.031913   \n",
       "min         0.000000     0.000000     0.000000     0.000000       8.500000   \n",
       "25%         1.000000    37.000000    12.000000     0.000000    6600.000000   \n",
       "50%         1.000000    65.000000    16.000000     0.000000   16000.000000   \n",
       "75%         1.000000    93.000000    19.000000     0.000000   30000.000000   \n",
       "max         5.000000   114.000000    29.000000   400.000000  100000.000000   \n",
       "\n",
       "       SizeK  \n",
       "count    0.0  \n",
       "mean     NaN  \n",
       "std      NaN  \n",
       "min      NaN  \n",
       "25%      NaN  \n",
       "50%      NaN  \n",
       "75%      NaN  \n",
       "max      NaN  "
      ]
     },
     "execution_count": 41,
     "metadata": {},
     "output_type": "execute_result"
    }
   ],
   "source": [
    "x.describe()"
   ]
  },
  {
   "cell_type": "code",
   "execution_count": 42,
   "metadata": {},
   "outputs": [],
   "source": [
    "# Drop the sizeK column\n",
    "x = x.drop(['SizeK'], axis=1)"
   ]
  },
  {
   "cell_type": "code",
   "execution_count": 43,
   "metadata": {},
   "outputs": [],
   "source": [
    "from sklearn.model_selection import train_test_split\n",
    "\n",
    "cols_index = [1,2,3,6,8,9,13]\n",
    "\n",
    "X = x.iloc[:,cols_index]\n",
    "Y = df.Target\n",
    "\n",
    "x_train, x_test, y_train, y_test = train_test_split(X,Y,test_size = 0.40, random_state =0)"
   ]
  },
  {
   "cell_type": "code",
   "execution_count": 44,
   "metadata": {},
   "outputs": [
    {
     "data": {
      "text/html": [
       "<div>\n",
       "<style scoped>\n",
       "    .dataframe tbody tr th:only-of-type {\n",
       "        vertical-align: middle;\n",
       "    }\n",
       "\n",
       "    .dataframe tbody tr th {\n",
       "        vertical-align: top;\n",
       "    }\n",
       "\n",
       "    .dataframe thead th {\n",
       "        text-align: right;\n",
       "    }\n",
       "</style>\n",
       "<table border=\"1\" class=\"dataframe\">\n",
       "  <thead>\n",
       "    <tr style=\"text-align: right;\">\n",
       "      <th></th>\n",
       "      <th>Category</th>\n",
       "      <th>Rating</th>\n",
       "      <th>Reviews</th>\n",
       "      <th>Type</th>\n",
       "      <th>ContentRating</th>\n",
       "      <th>Genres</th>\n",
       "      <th>Price$</th>\n",
       "    </tr>\n",
       "  </thead>\n",
       "  <tbody>\n",
       "    <tr>\n",
       "      <th>count</th>\n",
       "      <td>9360.000000</td>\n",
       "      <td>9360.000000</td>\n",
       "      <td>9.360000e+03</td>\n",
       "      <td>9360.000000</td>\n",
       "      <td>9360.000000</td>\n",
       "      <td>9360.000000</td>\n",
       "      <td>9360.000000</td>\n",
       "    </tr>\n",
       "    <tr>\n",
       "      <th>mean</th>\n",
       "      <td>16.799466</td>\n",
       "      <td>4.191838</td>\n",
       "      <td>5.143767e+05</td>\n",
       "      <td>0.068910</td>\n",
       "      <td>1.488462</td>\n",
       "      <td>62.290491</td>\n",
       "      <td>0.961279</td>\n",
       "    </tr>\n",
       "    <tr>\n",
       "      <th>std</th>\n",
       "      <td>8.276260</td>\n",
       "      <td>0.515263</td>\n",
       "      <td>3.145023e+06</td>\n",
       "      <td>0.253315</td>\n",
       "      <td>1.022388</td>\n",
       "      <td>32.332336</td>\n",
       "      <td>15.821640</td>\n",
       "    </tr>\n",
       "    <tr>\n",
       "      <th>min</th>\n",
       "      <td>0.000000</td>\n",
       "      <td>1.000000</td>\n",
       "      <td>1.000000e+00</td>\n",
       "      <td>0.000000</td>\n",
       "      <td>0.000000</td>\n",
       "      <td>0.000000</td>\n",
       "      <td>0.000000</td>\n",
       "    </tr>\n",
       "    <tr>\n",
       "      <th>25%</th>\n",
       "      <td>11.000000</td>\n",
       "      <td>4.000000</td>\n",
       "      <td>1.867500e+02</td>\n",
       "      <td>0.000000</td>\n",
       "      <td>1.000000</td>\n",
       "      <td>37.000000</td>\n",
       "      <td>0.000000</td>\n",
       "    </tr>\n",
       "    <tr>\n",
       "      <th>50%</th>\n",
       "      <td>14.000000</td>\n",
       "      <td>4.300000</td>\n",
       "      <td>5.955000e+03</td>\n",
       "      <td>0.000000</td>\n",
       "      <td>1.000000</td>\n",
       "      <td>65.000000</td>\n",
       "      <td>0.000000</td>\n",
       "    </tr>\n",
       "    <tr>\n",
       "      <th>75%</th>\n",
       "      <td>25.000000</td>\n",
       "      <td>4.500000</td>\n",
       "      <td>8.162750e+04</td>\n",
       "      <td>0.000000</td>\n",
       "      <td>1.000000</td>\n",
       "      <td>93.000000</td>\n",
       "      <td>0.000000</td>\n",
       "    </tr>\n",
       "    <tr>\n",
       "      <th>max</th>\n",
       "      <td>32.000000</td>\n",
       "      <td>5.000000</td>\n",
       "      <td>7.815831e+07</td>\n",
       "      <td>1.000000</td>\n",
       "      <td>5.000000</td>\n",
       "      <td>114.000000</td>\n",
       "      <td>400.000000</td>\n",
       "    </tr>\n",
       "  </tbody>\n",
       "</table>\n",
       "</div>"
      ],
      "text/plain": [
       "          Category       Rating       Reviews         Type  ContentRating  \\\n",
       "count  9360.000000  9360.000000  9.360000e+03  9360.000000    9360.000000   \n",
       "mean     16.799466     4.191838  5.143767e+05     0.068910       1.488462   \n",
       "std       8.276260     0.515263  3.145023e+06     0.253315       1.022388   \n",
       "min       0.000000     1.000000  1.000000e+00     0.000000       0.000000   \n",
       "25%      11.000000     4.000000  1.867500e+02     0.000000       1.000000   \n",
       "50%      14.000000     4.300000  5.955000e+03     0.000000       1.000000   \n",
       "75%      25.000000     4.500000  8.162750e+04     0.000000       1.000000   \n",
       "max      32.000000     5.000000  7.815831e+07     1.000000       5.000000   \n",
       "\n",
       "            Genres       Price$  \n",
       "count  9360.000000  9360.000000  \n",
       "mean     62.290491     0.961279  \n",
       "std      32.332336    15.821640  \n",
       "min       0.000000     0.000000  \n",
       "25%      37.000000     0.000000  \n",
       "50%      65.000000     0.000000  \n",
       "75%      93.000000     0.000000  \n",
       "max     114.000000   400.000000  "
      ]
     },
     "execution_count": 44,
     "metadata": {},
     "output_type": "execute_result"
    }
   ],
   "source": [
    "X.describe()"
   ]
  },
  {
   "cell_type": "markdown",
   "metadata": {},
   "source": [
    "# KNN"
   ]
  },
  {
   "cell_type": "code",
   "execution_count": 45,
   "metadata": {},
   "outputs": [
    {
     "name": "stdout",
     "output_type": "stream",
     "text": [
      "The optimal number of neighbors is 18\n",
      "The optimal score is 0.94\n"
     ]
    },
    {
     "data": {
      "image/png": "[encoded data removed]",
      "text/plain": [
       "<Figure size 1080x360 with 1 Axes>"
      ]
     },
     "metadata": {},
     "output_type": "display_data"
    }
   ],
   "source": [
    "from sklearn.neighbors import KNeighborsClassifier\n",
    "from sklearn import metrics\n",
    "import matplotlib.pyplot as plt\n",
    "%matplotlib inline\n",
    "\n",
    "scores = []\n",
    "\n",
    "lrange = list(range(1,20,1))\n",
    "\n",
    "for k in lrange:\n",
    "    knn=KNeighborsClassifier(n_neighbors=k)\n",
    "    knn.fit(x_train,y_train)\n",
    "    y_pred=knn.predict(x_test)\n",
    "    scores.append(metrics.accuracy_score(y_test,y_pred))\n",
    "\n",
    "optimal_l = lrange[scores.index(max(scores))]\n",
    "print('The optimal number of neighbors is %d' %optimal_l)\n",
    "print('The optimal score is %.2f' %max(scores))\n",
    "\n",
    "plt.figure(2,figsize=(15,5))\n",
    "\n",
    "plt.plot(lrange, scores, ls='dashed')\n",
    "plt.xlabel('Value of k for KNN')\n",
    "plt.ylabel('Accuracy Score')\n",
    "plt.title('Accuracy Scores for Values of k of k-Nearest-Neighbors')\n",
    "plt.xticks(lrange)\n",
    "plt.yticks(scores)\n",
    "\n",
    "plt.grid()\n",
    "plt.show()"
   ]
  },
  {
   "cell_type": "code",
   "execution_count": 46,
   "metadata": {},
   "outputs": [
    {
     "name": "stderr",
     "output_type": "stream",
     "text": [
      "/anaconda3/lib/python3.6/site-packages/sklearn/cross_validation.py:41: DeprecationWarning: This module was deprecated in version 0.18 in favor of the model_selection module into which all the refactored classes and functions are moved. Also note that the interface of the new CV iterators are different from that of this module. This module will be removed in 0.20.\n",
      "  \"This module will be removed in 0.20.\", DeprecationWarning)\n"
     ]
    },
    {
     "name": "stdout",
     "output_type": "stream",
     "text": [
      "The optimal number of neighbors is 18\n",
      "The optimal score is 0.94\n"
     ]
    },
    {
     "data": {
      "image/png": "[encoded data removed]",
      "text/plain": [
       "<Figure size 1080x360 with 1 Axes>"
      ]
     },
     "metadata": {},
     "output_type": "display_data"
    }
   ],
   "source": [
    "from sklearn.cross_validation import cross_val_score\n",
    "import matplotlib.pyplot as plt\n",
    "%matplotlib inline\n",
    "\n",
    "krange = list(range(1,20,1))\n",
    "k_scores = []\n",
    "\n",
    "\n",
    "for k in krange:\n",
    "    knn = knn=KNeighborsClassifier(n_neighbors=k)\n",
    "    scores = cross_val_score(knn, X, Y, cv=5, scoring='accuracy')\n",
    "    k_scores.append(scores.mean())\n",
    "\n",
    "optimal_k = krange[k_scores.index(max(k_scores))]\n",
    "print('The optimal number of neighbors is %d' %optimal_k)\n",
    "print('The optimal score is %.2f' %max(k_scores))\n",
    "\n",
    "\n",
    "plt.figure(2,figsize=(15,5))\n",
    "plt.plot(krange, k_scores)\n",
    "plt.xlabel(\"Value of K for KNN\")\n",
    "plt.ylabel(\"Cross-validated Accuracy\")\n",
    "plt.title('Accuracy Scores for Values of k of k-Nearest-Neighbors')\n",
    "plt.xticks(krange)\n",
    "plt.yticks(k_scores)\n",
    "\n",
    "plt.grid()\n",
    "plt.show()"
   ]
  },
  {
   "cell_type": "markdown",
   "metadata": {},
   "source": [
    "# Naive Bayers"
   ]
  },
  {
   "cell_type": "code",
   "execution_count": 47,
   "metadata": {},
   "outputs": [
    {
     "name": "stdout",
     "output_type": "stream",
     "text": [
      "Number of mislabeled points out of a total 3744 points : 403, performance 89.24%\n"
     ]
    },
    {
     "data": {
      "text/plain": [
       "Text(0.5,24,'Predicted label')"
      ]
     },
     "execution_count": 47,
     "metadata": {},
     "output_type": "execute_result"
    },
    {
     "data": {
      "image/png": "[encoded data removed]",
      "text/plain": [
       "<Figure size 720x360 with 2 Axes>"
      ]
     },
     "metadata": {},
     "output_type": "display_data"
    }
   ],
   "source": [
    "from sklearn.model_selection import train_test_split\n",
    "from sklearn.metrics import accuracy_score, confusion_matrix, precision_recall_fscore_support\n",
    "from sklearn.naive_bayes import GaussianNB, BernoulliNB, MultinomialNB\n",
    "%matplotlib inline\n",
    "\n",
    "# Instantiate the classifier\n",
    "gnb = GaussianNB()\n",
    "\n",
    "# Train classifier\n",
    "gnb.fit(x_train,y_train)\n",
    "\n",
    "# Test the classifier\n",
    "predict = gnb.predict(x_test)\n",
    "\n",
    "# Print results\n",
    "print(\"Number of mislabeled points out of a total {} points : {}, performance {:05.2f}%\"\n",
    "      .format(x_test.shape[0], (y_test != predict).sum(), \n",
    "              gnb.score(x_test,y_test)*100 ))\n",
    "\n",
    "# Creates a confusion matrix\n",
    "cm = confusion_matrix(y_test, predict)\n",
    "\n",
    "# Transform to dataframe for easier plotting\n",
    "cm_df = pd.DataFrame(cm)\n",
    "\n",
    "# plot the confusion matrix\n",
    "plt.figure(figsize=(10,5))\n",
    "sns.heatmap(cm_df, annot=True, fmt='g')\n",
    "plt.title(\"Naive Bayes Accuracy:\" + str(gnb.score(x_test,y_test)*100))\n",
    "plt.ylabel('True label')\n",
    "plt.xlabel('Predicted label')"
   ]
  },
  {
   "cell_type": "markdown",
   "metadata": {},
   "source": [
    "# Dendogram"
   ]
  },
  {
   "cell_type": "code",
   "execution_count": 48,
   "metadata": {},
   "outputs": [
    {
     "data": {
      "image/png": "[encoded data removed]",
      "text/plain": [
       "<Figure size 432x288 with 1 Axes>"
      ]
     },
     "metadata": {},
     "output_type": "display_data"
    }
   ],
   "source": [
    "from scipy.cluster.hierarchy import dendrogram, linkage\n",
    "linked = linkage(X.iloc[:,[2,6]],'complete')\n",
    "dendrogram(linked, orientation='top', distance_sort='ascending', show_leaf_counts=False)\n",
    "plt.show()"
   ]
  },
  {
   "cell_type": "code",
   "execution_count": 49,
   "metadata": {},
   "outputs": [
    {
     "data": {
      "text/plain": [
       "<matplotlib.collections.PathCollection at 0x1a28f95668>"
      ]
     },
     "execution_count": 49,
     "metadata": {},
     "output_type": "execute_result"
    },
    {
     "data": {
      "image/png": "[encoded data removed]",
      "text/plain": [
       "<Figure size 432x288 with 1 Axes>"
      ]
     },
     "metadata": {},
     "output_type": "display_data"
    }
   ],
   "source": [
    "from matplotlib import pyplot as plt\n",
    "plt.scatter(X.Rating, X['Price$'])"
   ]
  },
  {
   "cell_type": "markdown",
   "metadata": {},
   "source": [
    "# K-mean"
   ]
  },
  {
   "cell_type": "code",
   "execution_count": 50,
   "metadata": {},
   "outputs": [
    {
     "data": {
      "text/plain": [
       "Text(3.86667,391.324,'cluster 2')"
      ]
     },
     "execution_count": 50,
     "metadata": {},
     "output_type": "execute_result"
    },
    {
     "data": {
      "image/png": "[encoded data removed]",
      "text/plain": [
       "<Figure size 432x288 with 1 Axes>"
      ]
     },
     "metadata": {},
     "output_type": "display_data"
    }
   ],
   "source": [
    "from sklearn.cluster import KMeans\n",
    "\n",
    "init_centroids = np.array([[0.0,0],[1.5,1.5]])\n",
    "kmeans = KMeans(n_clusters=2, init=init_centroids, n_init=1)\n",
    "kmeans.fit(X.iloc[:,[1,6]])\n",
    "\n",
    "init_centroids = np.array([[0.0,0.0],[1.5,1.5]])\n",
    "KMeans(algorithm='auto',copy_x=True,\n",
    "      init=init_centroids,\n",
    "      max_iter=500, n_clusters=2, n_init=1, n_jobs=1,\n",
    "      precompute_distances='auto', random_state=None, tol=0.0001, verbose=0)\n",
    "\n",
    "fig,ax=plt.subplots()\n",
    "plt.scatter(X.iloc[:,1], X.iloc[:,6], c=kmeans.labels_)\n",
    "plt.scatter(kmeans.cluster_centers_[:,0], kmeans.cluster_centers_[:,1],marker='x',color='red')\n",
    "ax.annotate('cluster 1', xy=(kmeans.cluster_centers_[0,0],kmeans.cluster_centers_[0,1]))\n",
    "ax.annotate('cluster 2', xy=(kmeans.cluster_centers_[1,0],kmeans.cluster_centers_[1,1]))"
   ]
  },
  {
   "cell_type": "code",
   "execution_count": 51,
   "metadata": {},
   "outputs": [
    {
     "data": {
      "text/plain": [
       "Text(3.86667,391.324,'cluster 2')"
      ]
     },
     "execution_count": 51,
     "metadata": {},
     "output_type": "execute_result"
    },
    {
     "data": {
      "image/png": "[encoded data removed]",
      "text/plain": [
       "<Figure size 432x288 with 1 Axes>"
      ]
     },
     "metadata": {},
     "output_type": "display_data"
    }
   ],
   "source": [
    "init_centroids = np.array([[0.0,0],[1.5,1.5]])\n",
    "kmeans = KMeans(n_clusters=2, init=init_centroids, n_init=1)\n",
    "kmeans.fit(X.iloc[:,[1,6]])\n",
    "\n",
    "init_centroids = np.array([[0.0,0.0],[1.5,1.5]])\n",
    "KMeans(algorithm='auto',copy_x=True,\n",
    "      init=init_centroids,\n",
    "      max_iter=500, n_clusters=2, n_init=1, n_jobs=1,\n",
    "      precompute_distances='auto', random_state=None, tol=0.0001, verbose=0)\n",
    "\n",
    "fig,ax=plt.subplots()\n",
    "plt.scatter(X.iloc[:,1], X.iloc[:,6], c=kmeans.labels_)\n",
    "plt.scatter(kmeans.cluster_centers_[:,0], kmeans.cluster_centers_[:,1],marker='x',color='red')\n",
    "ax.annotate('cluster 1', xy=(kmeans.cluster_centers_[0,0],kmeans.cluster_centers_[0,1]))\n",
    "ax.annotate('cluster 2', xy=(kmeans.cluster_centers_[1,0],kmeans.cluster_centers_[1,1]))"
   ]
  },
  {
   "cell_type": "code",
   "execution_count": 52,
   "metadata": {},
   "outputs": [
    {
     "data": {
      "text/plain": [
       "Text(16.2973,4.09276e+07,'cluster 2')"
      ]
     },
     "execution_count": 52,
     "metadata": {},
     "output_type": "execute_result"
    },
    {
     "data": {
      "image/png": "[encoded data removed]",
      "text/plain": [
       "<Figure size 432x288 with 1 Axes>"
      ]
     },
     "metadata": {},
     "output_type": "display_data"
    }
   ],
   "source": [
    "init_centroids = np.array([[0.0,0],[1.5,1.5]])\n",
    "kmeans = KMeans(n_clusters=2, init=init_centroids, n_init=1)\n",
    "kmeans.fit(X.iloc[:,[0,2]])\n",
    "\n",
    "init_centroids = np.array([[0.0,0.0],[1.5,1.5]])\n",
    "KMeans(algorithm='auto',copy_x=True,\n",
    "      init=init_centroids,\n",
    "      max_iter=1000, n_clusters=2, n_init=1, n_jobs=1,\n",
    "      precompute_distances='auto', random_state=None, tol=0.0001, verbose=0)\n",
    "\n",
    "fig,ax=plt.subplots()\n",
    "plt.scatter(X.iloc[:,0], X.iloc[:,2], c=kmeans.labels_)\n",
    "plt.scatter(kmeans.cluster_centers_[:,0], kmeans.cluster_centers_[:,1],marker='x',color='red')\n",
    "ax.annotate('cluster 1', xy=(kmeans.cluster_centers_[0,0],kmeans.cluster_centers_[0,1]))\n",
    "ax.annotate('cluster 2', xy=(kmeans.cluster_centers_[1,0],kmeans.cluster_centers_[1,1]))"
   ]
  },
  {
   "cell_type": "raw",
   "metadata": {},
   "source": [
    "Feature selection 1:\n",
    "Employ correlation matrix in order to study on the effect of the variance"
   ]
  },
  {
   "cell_type": "code",
   "execution_count": 53,
   "metadata": {},
   "outputs": [
    {
     "data": {
      "text/plain": [
       "Type            -0.053049\n",
       "Price$          -0.011895\n",
       "Genres          -0.009717\n",
       "Category         0.022778\n",
       "Rating           0.051337\n",
       "Sizek            0.052779\n",
       "ContentRating    0.053305\n",
       "AndroidVer       0.191248\n",
       "Reviews          0.641605\n",
       "Installs         1.000000\n",
       "Name: Installs, dtype: float64"
      ]
     },
     "execution_count": 53,
     "metadata": {},
     "output_type": "execute_result"
    }
   ],
   "source": [
    "corr_matrix = x.corr()\n",
    "corr_matrix['Installs'].sort_values(ascending=True)"
   ]
  },
  {
   "cell_type": "raw",
   "metadata": {},
   "source": [
    "Feature selection 2: Use Emsemble extraTrees Classifier to figure out the best feature"
   ]
  },
  {
   "cell_type": "code",
   "execution_count": 54,
   "metadata": {},
   "outputs": [
    {
     "data": {
      "text/plain": [
       "array([0.05702164, 0.12973072, 0.6647698 , 0.05076913, 0.01962692,\n",
       "       0.07490011, 0.00318167])"
      ]
     },
     "execution_count": 54,
     "metadata": {},
     "output_type": "execute_result"
    }
   ],
   "source": [
    "# Select the best feature from the data set\n",
    "from sklearn.ensemble import ExtraTreesClassifier\n",
    "clf = ExtraTreesClassifier(n_estimators=50)\n",
    "clf = clf.fit(X, y)\n",
    "clf.feature_importances_  "
   ]
  },
  {
   "cell_type": "code",
   "execution_count": 55,
   "metadata": {},
   "outputs": [
    {
     "data": {
      "text/plain": [
       "(9360, 1)"
      ]
     },
     "execution_count": 55,
     "metadata": {},
     "output_type": "execute_result"
    }
   ],
   "source": [
    "from sklearn.feature_selection import SelectFromModel\n",
    "model = SelectFromModel(clf, prefit=True)\n",
    "X_new = model.transform(X)\n",
    "X_new.shape  "
   ]
  },
  {
   "cell_type": "raw",
   "metadata": {},
   "source": [
    "Feature selection 3- Select Kbest & chi2"
   ]
  },
  {
   "cell_type": "code",
   "execution_count": 56,
   "metadata": {},
   "outputs": [
    {
     "name": "stdout",
     "output_type": "stream",
     "text": [
      "[2]\n"
     ]
    }
   ],
   "source": [
    "from sklearn.feature_selection import SelectKBest\n",
    "from sklearn.feature_selection import chi2\n",
    "\n",
    "KBest = SelectKBest(chi2, k=1)\n",
    "KBest.fit(X,Y)\n",
    "sup = KBest.get_support(True)\n",
    "print (sup)"
   ]
  },
  {
   "cell_type": "markdown",
   "metadata": {},
   "source": [
    "# Train method"
   ]
  },
  {
   "cell_type": "raw",
   "metadata": {},
   "source": [
    "Test_train_split\n",
    "K-fold\n",
    "cv\n",
    "https://scikit-learn.org/stable/modules/cross_validation.html"
   ]
  },
  {
   "cell_type": "markdown",
   "metadata": {},
   "source": [
    "# Linear regression"
   ]
  },
  {
   "cell_type": "raw",
   "metadata": {},
   "source": [
    "Predict the price of the apps"
   ]
  },
  {
   "cell_type": "markdown",
   "metadata": {},
   "source": [
    "# Prediction Report"
   ]
  },
  {
   "cell_type": "markdown",
   "metadata": {},
   "source": [
    "confusion_matrix(wine.target, kmeans.labels_))\n",
    "classification_report(wine.target, kmeans.labels_))"
   ]
  },
  {
   "cell_type": "raw",
   "metadata": {},
   "source": []
  }
 ],
 "metadata": {
  "kernelspec": {
   "display_name": "Python 3",
   "language": "python",
   "name": "python3"
  },
  "language_info": {
   "codemirror_mode": {
    "name": "ipython",
    "version": 3
   },
   "file_extension": ".py",
   "mimetype": "text/x-python",
   "name": "python",
   "nbconvert_exporter": "python",
   "pygments_lexer": "ipython3",
   "version": "3.6.5"
  }
 },
 "nbformat": 4,
 "nbformat_minor": 2
}
