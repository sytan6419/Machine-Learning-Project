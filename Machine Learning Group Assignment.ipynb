{
 "cells": [
  {
   "cell_type": "code",
   "execution_count": 1,
   "metadata": {},
   "outputs": [
    {
     "data": {
      "text/html": [
       "<div>\n",
       "<style scoped>\n",
       "    .dataframe tbody tr th:only-of-type {\n",
       "        vertical-align: middle;\n",
       "    }\n",
       "\n",
       "    .dataframe tbody tr th {\n",
       "        vertical-align: top;\n",
       "    }\n",
       "\n",
       "    .dataframe thead th {\n",
       "        text-align: right;\n",
       "    }\n",
       "</style>\n",
       "<table border=\"1\" class=\"dataframe\">\n",
       "  <thead>\n",
       "    <tr style=\"text-align: right;\">\n",
       "      <th></th>\n",
       "      <th>App Name</th>\n",
       "      <th>Category</th>\n",
       "      <th>Rating</th>\n",
       "      <th>Reviews</th>\n",
       "      <th>Size</th>\n",
       "      <th>Installs</th>\n",
       "      <th>Type</th>\n",
       "      <th>Price</th>\n",
       "      <th>Content Rating</th>\n",
       "      <th>Genres</th>\n",
       "      <th>Last Updated</th>\n",
       "      <th>Current Ver</th>\n",
       "      <th>Android Ver</th>\n",
       "    </tr>\n",
       "  </thead>\n",
       "  <tbody>\n",
       "    <tr>\n",
       "      <th>0</th>\n",
       "      <td>App</td>\n",
       "      <td>Category</td>\n",
       "      <td>Rating</td>\n",
       "      <td>Reviews</td>\n",
       "      <td>Size</td>\n",
       "      <td>Installs</td>\n",
       "      <td>Type</td>\n",
       "      <td>Price</td>\n",
       "      <td>Content Rating</td>\n",
       "      <td>Genres</td>\n",
       "      <td>Last Updated</td>\n",
       "      <td>Current Ver</td>\n",
       "      <td>Android Ver</td>\n",
       "    </tr>\n",
       "    <tr>\n",
       "      <th>1</th>\n",
       "      <td>Photo Editor &amp; Candy Camera &amp; Grid &amp; ScrapBook</td>\n",
       "      <td>ART_AND_DESIGN</td>\n",
       "      <td>4.1</td>\n",
       "      <td>159</td>\n",
       "      <td>19M</td>\n",
       "      <td>10,000+</td>\n",
       "      <td>Free</td>\n",
       "      <td>0</td>\n",
       "      <td>Everyone</td>\n",
       "      <td>Art &amp; Design</td>\n",
       "      <td>January 7, 2018</td>\n",
       "      <td>1.0.0</td>\n",
       "      <td>4.0.3 and up</td>\n",
       "    </tr>\n",
       "    <tr>\n",
       "      <th>2</th>\n",
       "      <td>Coloring book moana</td>\n",
       "      <td>ART_AND_DESIGN</td>\n",
       "      <td>3.9</td>\n",
       "      <td>967</td>\n",
       "      <td>14M</td>\n",
       "      <td>500,000+</td>\n",
       "      <td>Free</td>\n",
       "      <td>0</td>\n",
       "      <td>Everyone</td>\n",
       "      <td>Art &amp; Design;Pretend Play</td>\n",
       "      <td>January 15, 2018</td>\n",
       "      <td>2.0.0</td>\n",
       "      <td>4.0.3 and up</td>\n",
       "    </tr>\n",
       "    <tr>\n",
       "      <th>3</th>\n",
       "      <td>U Launcher Lite – FREE Live Cool Themes, Hide ...</td>\n",
       "      <td>ART_AND_DESIGN</td>\n",
       "      <td>4.7</td>\n",
       "      <td>87510</td>\n",
       "      <td>8.7M</td>\n",
       "      <td>5,000,000+</td>\n",
       "      <td>Free</td>\n",
       "      <td>0</td>\n",
       "      <td>Everyone</td>\n",
       "      <td>Art &amp; Design</td>\n",
       "      <td>August 1, 2018</td>\n",
       "      <td>1.2.4</td>\n",
       "      <td>4.0.3 and up</td>\n",
       "    </tr>\n",
       "    <tr>\n",
       "      <th>4</th>\n",
       "      <td>Sketch - Draw &amp; Paint</td>\n",
       "      <td>ART_AND_DESIGN</td>\n",
       "      <td>4.5</td>\n",
       "      <td>215644</td>\n",
       "      <td>25M</td>\n",
       "      <td>50,000,000+</td>\n",
       "      <td>Free</td>\n",
       "      <td>0</td>\n",
       "      <td>Teen</td>\n",
       "      <td>Art &amp; Design</td>\n",
       "      <td>June 8, 2018</td>\n",
       "      <td>Varies with device</td>\n",
       "      <td>4.2 and up</td>\n",
       "    </tr>\n",
       "  </tbody>\n",
       "</table>\n",
       "</div>"
      ],
      "text/plain": [
       "                                            App Name        Category  Rating  \\\n",
       "0                                                App        Category  Rating   \n",
       "1     Photo Editor & Candy Camera & Grid & ScrapBook  ART_AND_DESIGN     4.1   \n",
       "2                                Coloring book moana  ART_AND_DESIGN     3.9   \n",
       "3  U Launcher Lite – FREE Live Cool Themes, Hide ...  ART_AND_DESIGN     4.7   \n",
       "4                              Sketch - Draw & Paint  ART_AND_DESIGN     4.5   \n",
       "\n",
       "   Reviews  Size     Installs  Type  Price  Content Rating  \\\n",
       "0  Reviews  Size     Installs  Type  Price  Content Rating   \n",
       "1      159   19M      10,000+  Free      0        Everyone   \n",
       "2      967   14M     500,000+  Free      0        Everyone   \n",
       "3    87510  8.7M   5,000,000+  Free      0        Everyone   \n",
       "4   215644   25M  50,000,000+  Free      0            Teen   \n",
       "\n",
       "                      Genres      Last Updated         Current Ver  \\\n",
       "0                     Genres      Last Updated         Current Ver   \n",
       "1               Art & Design   January 7, 2018               1.0.0   \n",
       "2  Art & Design;Pretend Play  January 15, 2018               2.0.0   \n",
       "3               Art & Design    August 1, 2018               1.2.4   \n",
       "4               Art & Design      June 8, 2018  Varies with device   \n",
       "\n",
       "    Android Ver  \n",
       "0   Android Ver  \n",
       "1  4.0.3 and up  \n",
       "2  4.0.3 and up  \n",
       "3  4.0.3 and up  \n",
       "4    4.2 and up  "
      ]
     },
     "execution_count": 1,
     "metadata": {},
     "output_type": "execute_result"
    }
   ],
   "source": [
    "import pandas as pd\n",
    "import numpy as np\n",
    "import matplotlib.pyplot as plt\n",
    "\n",
    "colNames = ['App Name','Category','Rating','Reviews','Size',\n",
    "            'Installs','Type','Price','Content Rating','Genres',\n",
    "            'Last Updated','Current Ver','Android Ver']\n",
    "\n",
    "df = pd.read_csv('playstore.csv', names=colNames)\n",
    "df.head()"
   ]
  },
  {
   "cell_type": "code",
   "execution_count": 2,
   "metadata": {},
   "outputs": [
    {
     "data": {
      "text/plain": [
       "(10842, 13)"
      ]
     },
     "execution_count": 2,
     "metadata": {},
     "output_type": "execute_result"
    }
   ],
   "source": [
    "df.shape"
   ]
  },
  {
   "cell_type": "code",
   "execution_count": 6,
   "metadata": {},
   "outputs": [
    {
     "name": "stdout",
     "output_type": "stream",
     "text": [
      "<class 'pandas.core.frame.DataFrame'>\n",
      "RangeIndex: 10842 entries, 0 to 10841\n",
      "Data columns (total 13 columns):\n",
      "App Name          10842 non-null object\n",
      "Category          10842 non-null object\n",
      "Rating            9368 non-null object\n",
      "Reviews           10842 non-null object\n",
      "Size              10842 non-null object\n",
      "Installs          10842 non-null object\n",
      "Type              10841 non-null object\n",
      "Price             10842 non-null object\n",
      "Content Rating    10841 non-null object\n",
      "Genres            10842 non-null object\n",
      "Last Updated      10842 non-null object\n",
      "Current Ver       10834 non-null object\n",
      "Android Ver       10839 non-null object\n",
      "dtypes: object(13)\n",
      "memory usage: 1.1+ MB\n"
     ]
    },
    {
     "data": {
      "text/plain": [
       "App Name             0\n",
       "Category             0\n",
       "Rating            1474\n",
       "Reviews              0\n",
       "Size                 0\n",
       "Installs             0\n",
       "Type                 1\n",
       "Price                0\n",
       "Content Rating       1\n",
       "Genres               0\n",
       "Last Updated         0\n",
       "Current Ver          8\n",
       "Android Ver          3\n",
       "dtype: int64"
      ]
     },
     "execution_count": 6,
     "metadata": {},
     "output_type": "execute_result"
    }
   ],
   "source": [
    "df.info()\n",
    "df.isnull().sum() #Null Data Sum"
   ]
  },
  {
   "cell_type": "code",
   "execution_count": 5,
   "metadata": {},
   "outputs": [
    {
     "data": {
      "text/html": [
       "<div>\n",
       "<style scoped>\n",
       "    .dataframe tbody tr th:only-of-type {\n",
       "        vertical-align: middle;\n",
       "    }\n",
       "\n",
       "    .dataframe tbody tr th {\n",
       "        vertical-align: top;\n",
       "    }\n",
       "\n",
       "    .dataframe thead th {\n",
       "        text-align: right;\n",
       "    }\n",
       "</style>\n",
       "<table border=\"1\" class=\"dataframe\">\n",
       "  <thead>\n",
       "    <tr style=\"text-align: right;\">\n",
       "      <th></th>\n",
       "      <th>App Name</th>\n",
       "      <th>Category</th>\n",
       "      <th>Rating</th>\n",
       "      <th>Reviews</th>\n",
       "      <th>Size</th>\n",
       "      <th>Installs</th>\n",
       "      <th>Type</th>\n",
       "      <th>Price</th>\n",
       "      <th>Content Rating</th>\n",
       "      <th>Genres</th>\n",
       "      <th>Last Updated</th>\n",
       "      <th>Current Ver</th>\n",
       "      <th>Android Ver</th>\n",
       "    </tr>\n",
       "  </thead>\n",
       "  <tbody>\n",
       "    <tr>\n",
       "      <th>count</th>\n",
       "      <td>10842</td>\n",
       "      <td>10842</td>\n",
       "      <td>9368</td>\n",
       "      <td>10842</td>\n",
       "      <td>10842</td>\n",
       "      <td>10842</td>\n",
       "      <td>10841</td>\n",
       "      <td>10842</td>\n",
       "      <td>10841</td>\n",
       "      <td>10842</td>\n",
       "      <td>10842</td>\n",
       "      <td>10834</td>\n",
       "      <td>10839</td>\n",
       "    </tr>\n",
       "    <tr>\n",
       "      <th>unique</th>\n",
       "      <td>9661</td>\n",
       "      <td>35</td>\n",
       "      <td>41</td>\n",
       "      <td>6003</td>\n",
       "      <td>463</td>\n",
       "      <td>23</td>\n",
       "      <td>4</td>\n",
       "      <td>94</td>\n",
       "      <td>7</td>\n",
       "      <td>121</td>\n",
       "      <td>1379</td>\n",
       "      <td>2785</td>\n",
       "      <td>34</td>\n",
       "    </tr>\n",
       "    <tr>\n",
       "      <th>top</th>\n",
       "      <td>ROBLOX</td>\n",
       "      <td>FAMILY</td>\n",
       "      <td>4.4</td>\n",
       "      <td>0</td>\n",
       "      <td>Varies with device</td>\n",
       "      <td>1,000,000+</td>\n",
       "      <td>Free</td>\n",
       "      <td>0</td>\n",
       "      <td>Everyone</td>\n",
       "      <td>Tools</td>\n",
       "      <td>August 3, 2018</td>\n",
       "      <td>Varies with device</td>\n",
       "      <td>4.1 and up</td>\n",
       "    </tr>\n",
       "    <tr>\n",
       "      <th>freq</th>\n",
       "      <td>9</td>\n",
       "      <td>1972</td>\n",
       "      <td>1109</td>\n",
       "      <td>596</td>\n",
       "      <td>1695</td>\n",
       "      <td>1579</td>\n",
       "      <td>10039</td>\n",
       "      <td>10040</td>\n",
       "      <td>8714</td>\n",
       "      <td>842</td>\n",
       "      <td>326</td>\n",
       "      <td>1459</td>\n",
       "      <td>2451</td>\n",
       "    </tr>\n",
       "  </tbody>\n",
       "</table>\n",
       "</div>"
      ],
      "text/plain": [
       "       App Name Category Rating Reviews                Size    Installs  \\\n",
       "count     10842    10842   9368   10842               10842       10842   \n",
       "unique     9661       35     41    6003                 463          23   \n",
       "top      ROBLOX   FAMILY    4.4       0  Varies with device  1,000,000+   \n",
       "freq          9     1972   1109     596                1695        1579   \n",
       "\n",
       "         Type  Price Content Rating Genres    Last Updated  \\\n",
       "count   10841  10842          10841  10842           10842   \n",
       "unique      4     94              7    121            1379   \n",
       "top      Free      0       Everyone  Tools  August 3, 2018   \n",
       "freq    10039  10040           8714    842             326   \n",
       "\n",
       "               Current Ver Android Ver  \n",
       "count                10834       10839  \n",
       "unique                2785          34  \n",
       "top     Varies with device  4.1 and up  \n",
       "freq                  1459        2451  "
      ]
     },
     "execution_count": 5,
     "metadata": {},
     "output_type": "execute_result"
    }
   ],
   "source": [
    "df.describe()"
   ]
  },
  {
   "cell_type": "raw",
   "metadata": {},
   "source": [
    "As of the df.info() show, there are multiple of attributes have null data.\n",
    "Besides, the data itself has inconsistent type of data from each category. \n",
    "Therefore, we would need to proceed to clean up the data first."
   ]
  },
  {
   "cell_type": "markdown",
   "metadata": {},
   "source": [
    "# Pre-processing (Clean up data)"
   ]
  },
  {
   "cell_type": "code",
   "execution_count": 9,
   "metadata": {},
   "outputs": [
    {
     "data": {
      "text/plain": [
       "(9361, 13)"
      ]
     },
     "execution_count": 9,
     "metadata": {},
     "output_type": "execute_result"
    }
   ],
   "source": [
    "# Convert categorical variable to numeric\n",
    "#df[\"Sex_cleaned\"] = np.where(df[\"Sex\"]==\"male\",0,1)\n",
    "#df[\"Embarked_cleaned\"] = np.where(df[\"Embarked\"]==\"S\",0, \n",
    "#                                    np.where(df[\"Embarked\"]==\"C\",1, \n",
    "#                                             np.where(df[\"Embarked\"]==\"Q\",2,3) ))\n",
    "#display(data.head(10))\n",
    "\n",
    "# Cleaning dataset of NaN\n",
    "df = df[['App Name','Category','Rating','Reviews','Size',\n",
    "            'Installs','Type','Price','Content Rating','Genres',\n",
    "            'Last Updated','Current Ver','Android Ver']].dropna(axis=0, how='any')\n",
    "\n",
    "df.head(10)\n",
    "df.shape"
   ]
  },
  {
   "cell_type": "code",
   "execution_count": 10,
   "metadata": {},
   "outputs": [
    {
     "name": "stdout",
     "output_type": "stream",
     "text": [
      "<class 'pandas.core.frame.DataFrame'>\n",
      "Int64Index: 9361 entries, 0 to 10841\n",
      "Data columns (total 13 columns):\n",
      "App Name          9361 non-null object\n",
      "Category          9361 non-null object\n",
      "Rating            9361 non-null object\n",
      "Reviews           9361 non-null object\n",
      "Size              9361 non-null object\n",
      "Installs          9361 non-null object\n",
      "Type              9361 non-null object\n",
      "Price             9361 non-null object\n",
      "Content Rating    9361 non-null object\n",
      "Genres            9361 non-null object\n",
      "Last Updated      9361 non-null object\n",
      "Current Ver       9361 non-null object\n",
      "Android Ver       9361 non-null object\n",
      "dtypes: object(13)\n",
      "memory usage: 1023.9+ KB\n"
     ]
    },
    {
     "data": {
      "text/plain": [
       "App Name          0\n",
       "Category          0\n",
       "Rating            0\n",
       "Reviews           0\n",
       "Size              0\n",
       "Installs          0\n",
       "Type              0\n",
       "Price             0\n",
       "Content Rating    0\n",
       "Genres            0\n",
       "Last Updated      0\n",
       "Current Ver       0\n",
       "Android Ver       0\n",
       "dtype: int64"
      ]
     },
     "execution_count": 10,
     "metadata": {},
     "output_type": "execute_result"
    }
   ],
   "source": [
    "df.info()\n",
    "df.isnull().sum() #Null Data Sum"
   ]
  },
  {
   "cell_type": "raw",
   "metadata": {},
   "source": [
    "As of this point, we have removed the null data from the dataset so that we can have a more cleaned data.\n",
    "However, we still need to derive a new column of data in order for us to achieve out goal - to maximize the earning from selling app in app store. The formula for the new column will be based on the number of apps installed as well as the selling price of the apps."
   ]
  },
  {
   "cell_type": "code",
   "execution_count": null,
   "metadata": {},
   "outputs": [],
   "source": []
  }
 ],
 "metadata": {
  "kernelspec": {
   "display_name": "Python 3",
   "language": "python",
   "name": "python3"
  },
  "language_info": {
   "codemirror_mode": {
    "name": "ipython",
    "version": 3
   },
   "file_extension": ".py",
   "mimetype": "text/x-python",
   "name": "python",
   "nbconvert_exporter": "python",
   "pygments_lexer": "ipython3",
   "version": "3.6.5"
  }
 },
 "nbformat": 4,
 "nbformat_minor": 2
}
